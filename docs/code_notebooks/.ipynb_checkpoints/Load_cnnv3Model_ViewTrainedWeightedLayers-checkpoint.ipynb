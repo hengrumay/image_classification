{
 "cells": [
  {
   "cell_type": "markdown",
   "metadata": {
    "collapsed": true
   },
   "source": [
    "#### General REQs"
   ]
  },
  {
   "cell_type": "code",
   "execution_count": 1,
   "metadata": {
    "collapsed": true
   },
   "outputs": [],
   "source": [
    "%matplotlib inline\n",
    "import matplotlib.pyplot as plt\n",
    "import matplotlib.image as mpimg\n",
    "import numpy as np\n",
    "import pandas as pd"
   ]
  },
  {
   "cell_type": "code",
   "execution_count": 2,
   "metadata": {
    "collapsed": true
   },
   "outputs": [],
   "source": [
    "# !pwd\n",
    "# path='/Users/#####'\n",
    "# path = '/home/ubuntu/pynb/#####'"
   ]
  },
  {
   "cell_type": "markdown",
   "metadata": {},
   "source": [
    "### Reload Model  \n",
    "--- best to load model def + load weights  \n",
    "(oddly the model.save-ed version didn't have the trained weights...)    \n",
    "https://keras.io/models/about-keras-models/"
   ]
  },
  {
   "cell_type": "code",
   "execution_count": 3,
   "metadata": {},
   "outputs": [
    {
     "name": "stderr",
     "output_type": "stream",
     "text": [
      "Using TensorFlow backend.\n"
     ]
    }
   ],
   "source": [
    "from keras.models import Model, Sequential\n",
    "from keras.models import load_model"
   ]
  },
  {
   "cell_type": "code",
   "execution_count": 4,
   "metadata": {},
   "outputs": [
    {
     "name": "stderr",
     "output_type": "stream",
     "text": [
      "/Users/hrm/anaconda3/envs/geopandas_env/lib/python3.5/site-packages/keras/models.py:240: UserWarning: No training configuration found in save file: the model was *not* compiled. Compile it manually.\n",
      "  warnings.warn('No training configuration found in save file: '\n"
     ]
    }
   ],
   "source": [
    "cnn_model0 = load_model('./model/CNNmodelNOweights_3diffconvkerns.h5')"
   ]
  },
  {
   "cell_type": "code",
   "execution_count": 5,
   "metadata": {
    "collapsed": true
   },
   "outputs": [],
   "source": [
    "cnn_model0.load_weights('./model/model_v3.1a.h5')"
   ]
  },
  {
   "cell_type": "code",
   "execution_count": 6,
   "metadata": {},
   "outputs": [
    {
     "name": "stdout",
     "output_type": "stream",
     "text": [
      "_________________________________________________________________\n",
      "Layer (type)                 Output Shape              Param #   \n",
      "=================================================================\n",
      "conv2d_31 (Conv2D)           (None, 256, 256, 64)      1792      \n",
      "_________________________________________________________________\n",
      "conv2d_32 (Conv2D)           (None, 254, 254, 64)      36928     \n",
      "_________________________________________________________________\n",
      "max_pooling2d_16 (MaxPooling (None, 127, 127, 64)      0         \n",
      "_________________________________________________________________\n",
      "dropout_21 (Dropout)         (None, 127, 127, 64)      0         \n",
      "_________________________________________________________________\n",
      "conv2d_33 (Conv2D)           (None, 127, 127, 128)     204928    \n",
      "_________________________________________________________________\n",
      "conv2d_34 (Conv2D)           (None, 123, 123, 128)     409728    \n",
      "_________________________________________________________________\n",
      "max_pooling2d_17 (MaxPooling (None, 61, 61, 128)       0         \n",
      "_________________________________________________________________\n",
      "dropout_22 (Dropout)         (None, 61, 61, 128)       0         \n",
      "_________________________________________________________________\n",
      "conv2d_35 (Conv2D)           (None, 61, 61, 256)       1605888   \n",
      "_________________________________________________________________\n",
      "conv2d_36 (Conv2D)           (None, 55, 55, 256)       3211520   \n",
      "_________________________________________________________________\n",
      "max_pooling2d_18 (MaxPooling (None, 27, 27, 256)       0         \n",
      "_________________________________________________________________\n",
      "dropout_23 (Dropout)         (None, 27, 27, 256)       0         \n",
      "_________________________________________________________________\n",
      "flatten_6 (Flatten)          (None, 186624)            0         \n",
      "_________________________________________________________________\n",
      "dense_11 (Dense)             (None, 512)               95552000  \n",
      "_________________________________________________________________\n",
      "dropout_24 (Dropout)         (None, 512)               0         \n",
      "_________________________________________________________________\n",
      "dense_12 (Dense)             (None, 2)                 1026      \n",
      "=================================================================\n",
      "Total params: 101,023,810.0\n",
      "Trainable params: 101,023,810.0\n",
      "Non-trainable params: 0.0\n",
      "_________________________________________________________________\n"
     ]
    }
   ],
   "source": [
    "cnn_model0.summary()"
   ]
  },
  {
   "cell_type": "code",
   "execution_count": null,
   "metadata": {
    "collapsed": true
   },
   "outputs": [],
   "source": []
  },
  {
   "cell_type": "code",
   "execution_count": null,
   "metadata": {
    "collapsed": true
   },
   "outputs": [],
   "source": []
  },
  {
   "cell_type": "markdown",
   "metadata": {},
   "source": [
    "### Image Files/paths"
   ]
  },
  {
   "cell_type": "code",
   "execution_count": 7,
   "metadata": {
    "collapsed": true
   },
   "outputs": [],
   "source": [
    "import glob\n",
    "import os, sys\n",
    "import shutil\n",
    "\n",
    "# path = \"/Users/######\"\n",
    "\n",
    "Build_dir = glob.glob(os.path.join(path+'building_set/buildings/','*.tif')) #os.listdir( path+'/buildings/' )\n",
    "# buildingFileNames\n",
    "NoBuild_dir = glob.glob(os.path.join(path+'building_set/no_buildings/','*.tif')) #os.listdir( path+'/no_buildings' )\n",
    "# nobuildingFileNames\n"
   ]
  },
  {
   "cell_type": "code",
   "execution_count": null,
   "metadata": {
    "collapsed": true
   },
   "outputs": [],
   "source": []
  },
  {
   "cell_type": "code",
   "execution_count": 8,
   "metadata": {
    "collapsed": true
   },
   "outputs": [],
   "source": [
    "def getFileNum(filename):\n",
    "    return filename.split('/')[-1][:-4]"
   ]
  },
  {
   "cell_type": "code",
   "execution_count": null,
   "metadata": {
    "collapsed": true
   },
   "outputs": [],
   "source": [
    "# filename = Build_dir[1] #path+'tmp_imgs/2902.tif'\n",
    "# fN = getFileNum(filename)\n",
    "# print(fN)"
   ]
  },
  {
   "cell_type": "code",
   "execution_count": null,
   "metadata": {
    "collapsed": true
   },
   "outputs": [],
   "source": []
  },
  {
   "cell_type": "markdown",
   "metadata": {},
   "source": [
    "### Def function to run same preprocessing images as those fed into cnn models"
   ]
  },
  {
   "cell_type": "code",
   "execution_count": 9,
   "metadata": {
    "collapsed": true
   },
   "outputs": [],
   "source": [
    "import numpy as np\n",
    "from skimage import color, exposure, transform\n",
    "\n",
    "# NUM_CLASSES = 2\n",
    "IMG_SIZE = 256\n",
    "\n",
    "def preprocess_img(img):\n",
    "    img=np.array(img)\n",
    "    # Histogram normalization in v channel\n",
    "    hsv = color.rgb2hsv(img)\n",
    "    hsv[:,:,2] = exposure.equalize_hist(hsv[:,:,2])\n",
    "    img = color.hsv2rgb(hsv)\n",
    "\n",
    "    # central square crop\n",
    "    min_side = min(img.shape[:-1])\n",
    "    centre = img.shape[0]//2, img.shape[1]//2\n",
    "    img = img[centre[0]-min_side//2:centre[0]+min_side//2,\n",
    "              centre[1]-min_side//2:centre[1]+min_side//2,\n",
    "              :]\n",
    "\n",
    "    # rescale to standard size\n",
    "    img = transform.resize(img, (IMG_SIZE, IMG_SIZE), mode='constant')\n",
    "\n",
    "    # roll color axis to axis 0\n",
    "    #img = np.rollaxis(img,-1)\n",
    "\n",
    "    return img"
   ]
  },
  {
   "cell_type": "code",
   "execution_count": 10,
   "metadata": {
    "collapsed": true
   },
   "outputs": [],
   "source": [
    "from skimage import io\n",
    "\n",
    "def RUNpreprocessImg(filename, returnImgArray=None, FilePrefix=None):\n",
    "    # img = preprocess_img(io.imread(img_path))\n",
    "    img = preprocess_img(io.imread(filename))\n",
    "\n",
    "    fN = getFileNum(filename)\n",
    "    io.imsave(path+'tmp_imgs/' + str(FilePrefix) + '_' +str(fN) + '_p.jpg', img)\n",
    "    \n",
    "    print('made a preprocesed JPEG copy of ' + format(fN) + '.tif --> saved : ./' +'tmp_imgs/'+str(FilePrefix) + '_' +str(fN) + '_p.jpg' )\n",
    "\n",
    "    X = np.array(img, dtype='float32')    \n",
    "    if returnImgArray==1:\n",
    "        return X"
   ]
  },
  {
   "cell_type": "code",
   "execution_count": 11,
   "metadata": {},
   "outputs": [
    {
     "name": "stdout",
     "output_type": "stream",
     "text": [
      "made a preprocesed JPEG copy of 100663.tif --> saved : ./tmp_imgs/None_100663_p.jpg\n"
     ]
    },
    {
     "name": "stderr",
     "output_type": "stream",
     "text": [
      "/Users/hrm/anaconda3/envs/geopandas_env/lib/python3.5/site-packages/skimage/util/dtype.py:122: UserWarning: Possible precision loss when converting from float64 to uint8\n",
      "  .format(dtypeobj_in, dtypeobj_out))\n"
     ]
    }
   ],
   "source": [
    "# Test\n",
    "img0 = RUNpreprocessImg(Build_dir[2],1)"
   ]
  },
  {
   "cell_type": "code",
   "execution_count": null,
   "metadata": {},
   "outputs": [],
   "source": [
    "# plt.imshow(img0)"
   ]
  },
  {
   "cell_type": "code",
   "execution_count": null,
   "metadata": {
    "collapsed": true
   },
   "outputs": [],
   "source": []
  },
  {
   "cell_type": "markdown",
   "metadata": {},
   "source": [
    "### convert tif --> jpeg so quiver sees it \n",
    "| prob could use skimage.io as well..."
   ]
  },
  {
   "cell_type": "code",
   "execution_count": 13,
   "metadata": {
    "collapsed": true
   },
   "outputs": [],
   "source": [
    "import gdal\n",
    "\n",
    "def MakeJPEGcopyfromTIF(filename, FilePrefix):\n",
    "    # Assume this retrieves the dataset from a GeoTIFF file.\n",
    "    # dataset = getDataSet(tiffFileLocation)      \n",
    "    gtif = gdal.Open(filename) #gdal.Open(path+'tmp_imgs/1113.tif')\n",
    "\n",
    "    fN = getFileNum(filename)\n",
    "\n",
    "    saveOptions = []\n",
    "    saveOptions.append(\"QUALITY=75\")\n",
    "\n",
    "    # Obtains a JPEG GDAL driver\n",
    "    jpegDriver = gdal.GetDriverByName(\"JPEG\")   \n",
    "\n",
    "    # Create the .JPG file\n",
    "    # jpegDriver.CreateCopy(\"imageFile.jpg\", dataset, 0, saveOptions)  \n",
    "    jpegDriver.CreateCopy(path+'tmp_imgs/' + str(FilePrefix) + '_' +str(fN) + '_o.jpg', gtif, 0, saveOptions)  \n",
    "    \n",
    "    print('made a JPEG copy of ' + format(fN) + '.tif --> saved : ./' +'tmp_imgs/'+str(FilePrefix) + '_' +str(fN) + '_o.jpg' )\n"
   ]
  },
  {
   "cell_type": "code",
   "execution_count": 14,
   "metadata": {},
   "outputs": [
    {
     "name": "stdout",
     "output_type": "stream",
     "text": [
      "made a JPEG copy of 100663.tif --> saved : ./tmp_imgs/B_100663_o.jpg\n"
     ]
    }
   ],
   "source": [
    "# Test\n",
    "MakeJPEGcopyfromTIF(Build_dir[2], 'B')"
   ]
  },
  {
   "cell_type": "code",
   "execution_count": null,
   "metadata": {
    "collapsed": true
   },
   "outputs": [],
   "source": []
  },
  {
   "cell_type": "markdown",
   "metadata": {},
   "source": [
    "### Create some tmp jpeg images to try on Quiver server"
   ]
  },
  {
   "cell_type": "code",
   "execution_count": null,
   "metadata": {},
   "outputs": [],
   "source": [
    "for filename in np.random.choice(Build_dir,10):\n",
    "    MakeJPEGcopyfromTIF(filename, 'B')\n",
    "    RUNpreprocessImg(filename, returnImgArray=None, FilePrefix= 'B')"
   ]
  },
  {
   "cell_type": "code",
   "execution_count": null,
   "metadata": {},
   "outputs": [],
   "source": [
    "for filename in np.random.choice(NoBuild_dir,10):\n",
    "    MakeJPEGcopyfromTIF(filename, 'NB')\n",
    "    RUNpreprocessImg(filename, returnImgArray=None, FilePrefix='NB')"
   ]
  },
  {
   "cell_type": "code",
   "execution_count": null,
   "metadata": {
    "collapsed": true
   },
   "outputs": [],
   "source": []
  },
  {
   "cell_type": "markdown",
   "metadata": {},
   "source": [
    "## Try viewing Model and see what it learnt with quiver\n",
    "https://github.com/jakebian/quiver"
   ]
  },
  {
   "cell_type": "code",
   "execution_count": null,
   "metadata": {
    "collapsed": true
   },
   "outputs": [],
   "source": [
    "from quiver_engine import server"
   ]
  },
  {
   "cell_type": "code",
   "execution_count": null,
   "metadata": {
    "collapsed": true
   },
   "outputs": [],
   "source": [
    "# server.launch(model)\n",
    "# server.launch(cnn_model)\n",
    "\n",
    "server.launch(cnn_model0, input_folder='./tmp_imgs')  ## outputs a bunch of tmp images in ./tmp/ folder... gets huge\n",
    "\n",
    "## INTERRUPT KERNEL TO STOP SERVER..."
   ]
  },
  {
   "cell_type": "code",
   "execution_count": null,
   "metadata": {
    "collapsed": true
   },
   "outputs": [],
   "source": [
    "## Not great when there are many different features...\n",
    "# Ideally need to have some algorithm to pick up different feature filters... "
   ]
  },
  {
   "cell_type": "code",
   "execution_count": null,
   "metadata": {
    "collapsed": true
   },
   "outputs": [],
   "source": []
  },
  {
   "cell_type": "code",
   "execution_count": null,
   "metadata": {
    "collapsed": true
   },
   "outputs": [],
   "source": [
    "#Q# Can we retrieve some of these model layers??"
   ]
  },
  {
   "cell_type": "code",
   "execution_count": null,
   "metadata": {
    "collapsed": true
   },
   "outputs": [],
   "source": []
  }
 ],
 "metadata": {
  "kernelspec": {
   "display_name": "Python 3",
   "language": "python",
   "name": "python3"
  },
  "language_info": {
   "codemirror_mode": {
    "name": "ipython",
    "version": 3
   },
   "file_extension": ".py",
   "mimetype": "text/x-python",
   "name": "python",
   "nbconvert_exporter": "python",
   "pygments_lexer": "ipython3",
   "version": "3.6.1"
  }
 },
 "nbformat": 4,
 "nbformat_minor": 2
}
