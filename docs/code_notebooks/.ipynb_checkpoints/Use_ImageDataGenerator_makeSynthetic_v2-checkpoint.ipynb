{
 "cells": [
  {
   "cell_type": "markdown",
   "metadata": {},
   "source": [
    "#### Augmenting building images -- to generate synthetic data for test-training: \n",
    "\n",
    "- refs: http://localhost:8888/notebooks/REFS_and_LINKS.ipynb \n",
    "\n",
    "\n",
    "- ref:  http://localhost:8888/notebooks/test_ImageDataGenerator.ipynb\n",
    "- ref:  http://localhost:8888/notebooks/Use_ImageDataGenerator_makeSynthetic_v0.ipynb\n",
    "\n"
   ]
  },
  {
   "cell_type": "markdown",
   "metadata": {},
   "source": [
    "#### General REQs"
   ]
  },
  {
   "cell_type": "code",
   "execution_count": null,
   "metadata": {
    "collapsed": true
   },
   "outputs": [],
   "source": [
    "%matplotlib inline\n",
    "import matplotlib.pyplot as plt\n",
    "import matplotlib.image as mpimg\n",
    "import numpy as np"
   ]
  },
  {
   "cell_type": "code",
   "execution_count": null,
   "metadata": {
    "collapsed": true
   },
   "outputs": [],
   "source": [
    "# !pwd\n",
    "# path='/Users/####'\n",
    "# path = '/home/ubuntu/pynb/####'\n"
   ]
  },
  {
   "cell_type": "markdown",
   "metadata": {},
   "source": [
    "#### File paths"
   ]
  },
  {
   "cell_type": "code",
   "execution_count": null,
   "metadata": {
    "collapsed": true
   },
   "outputs": [],
   "source": [
    "## Get fullpaths to img files\n",
    "import glob, os, sys\n",
    "\n",
    "btmp = glob.glob(os.path.join(path+'/building_set/buildings/','*.tif')) #os.listdir( path+'/building_set/buildings/' )\n",
    "# buildingFileNames\n",
    "nbtmp = glob.glob(os.path.join(path+'/building_set/no_buildings/','*.tif')) #os.listdir( path+'/building_set/no_buildings' )\n",
    "# nobuildingFileNames\n",
    "\n",
    "buildingFileNames = btmp\n",
    "nobuildingFileNames = nbtmp\n"
   ]
  },
  {
   "cell_type": "code",
   "execution_count": null,
   "metadata": {},
   "outputs": [],
   "source": [
    "len(buildingFileNames),len(nobuildingFileNames)"
   ]
  },
  {
   "cell_type": "code",
   "execution_count": null,
   "metadata": {
    "collapsed": true
   },
   "outputs": [],
   "source": [
    "buildingFileNames[0] \n",
    "# '/home/ubuntu/pynb/DG_datachallenge/building_set/buildings/289840.tif'"
   ]
  },
  {
   "cell_type": "code",
   "execution_count": null,
   "metadata": {
    "collapsed": true
   },
   "outputs": [],
   "source": [
    "[img for img in buildingFileNames][-1]\n",
    "# '/home/ubuntu/pynb/DG_datachallenge/building_set/buildings/658029.tif'"
   ]
  },
  {
   "cell_type": "code",
   "execution_count": null,
   "metadata": {
    "collapsed": true
   },
   "outputs": [],
   "source": []
  },
  {
   "cell_type": "markdown",
   "metadata": {},
   "source": [
    "### ImageDataGeneration ..."
   ]
  },
  {
   "cell_type": "code",
   "execution_count": null,
   "metadata": {},
   "outputs": [],
   "source": [
    "# Standardize images across the dataset, mean=0, stdev=1\n",
    "# XX K.set_image_dim_ordering('th')\n",
    "\n",
    "from keras.preprocessing.image import ImageDataGenerator, array_to_img, img_to_array, load_img\n",
    "from keras import backend as K\n",
    "\n",
    "cnt = 0\n",
    "N = 0 \n",
    "imgC = 200\n",
    "\n",
    "\n",
    "# for imgN in range(0,len(buildingFileNames)):\n",
    "for imgN in buildingFileNames:\n",
    "    #load img\n",
    "    #img = load_img(buildingFileNames[imgN])  # this is a PIL image | float32\n",
    "    img = load_img(imgN)  # this is a PIL image | float32\n",
    "    # preprocess to shape keras needs\n",
    "    x = img_to_array(img)\n",
    "    #x.shape\n",
    "    xx = x.reshape(1, x.shape[0], x.shape[1], x.shape[2])\n",
    "\n",
    "    ## define data preparation\n",
    "    datagen = ImageDataGenerator(\n",
    "                                ##rotation_range=180,\n",
    "                                rotation_range=2,\n",
    "                                horizontal_flip=True,\n",
    "                                vertical_flip=True,                            \n",
    "                                ##zoom_range = [0.8,0.8],                            \n",
    "                                )\n",
    "\n",
    "    ## fit parameters from data\n",
    "    # datagen.fit(X_train)\n",
    "    datagen.fit(xx,augment=True)\n",
    "    \n",
    "    \n",
    "    #plt.figure(figsize=(4,4))\n",
    "    i = 0\n",
    "    for batch in datagen.flow(xx, batch_size=1,\n",
    "                              save_to_dir=path+'/building_set/augmented', \n",
    "                              #save_prefix='b_'+ buildingFileNames[imgN].split('/')[-1][:-4] +'_', \n",
    "                              save_prefix='b_'+ imgN.split('/')[-1][:-4] +'_', \n",
    "                              save_format='tif'\n",
    "                             ):\n",
    "\n",
    "        i += 1\n",
    "        if i == 10: #20:\n",
    "            break\n",
    "            #continue\n",
    "    \n",
    "    #print('Augmenting Img #' + format(imgN) + ' : '+ buildingFileNames[imgN].split('/')[-1] + ' -------')\n",
    "    \n",
    "    if cnt%imgC==0:\n",
    "        if N==0 & cnt==0:\n",
    "            #print('start augmenting....' + format(imgN))\n",
    "            print('start augmenting....' + format(cnt))\n",
    "        else:\n",
    "            print('augmented {0} images ...'.format((N*imgC)) )\n",
    "        N += 1        \n",
    "    \n",
    "    cnt += 1\n",
    "\n",
    "## Done... print:            \n",
    "print('augmented {0} images ...'.format(cnt))\n"
   ]
  },
  {
   "cell_type": "code",
   "execution_count": null,
   "metadata": {
    "collapsed": true
   },
   "outputs": [],
   "source": [
    "# Using TensorFlow backend.\n",
    "# start augmenting..../##############.tif\n",
    "# augmented 200 images ...\n",
    "# augmented 400 images ...\n",
    "# augmented 600 images ...\n",
    "# augmented 800 images ...\n",
    "# augmented 1000 images ...\n",
    "# augmented 1200 images ...\n",
    "# augmented 1400 images ...\n",
    "# augmented 1600 images ...\n",
    "# augmented 1800 images ...\n",
    "# augmented 2000 images ..."
   ]
  },
  {
   "cell_type": "code",
   "execution_count": null,
   "metadata": {},
   "outputs": [],
   "source": [
    "cnt, imgN"
   ]
  },
  {
   "cell_type": "code",
   "execution_count": null,
   "metadata": {
    "collapsed": true
   },
   "outputs": [],
   "source": [
    "abtmp = glob.glob(os.path.join(path+'/building_set/augmented/','*.tif'))"
   ]
  },
  {
   "cell_type": "code",
   "execution_count": null,
   "metadata": {},
   "outputs": [],
   "source": [
    "len(abtmp)"
   ]
  },
  {
   "cell_type": "code",
   "execution_count": null,
   "metadata": {},
   "outputs": [],
   "source": [
    "2000*9"
   ]
  },
  {
   "cell_type": "code",
   "execution_count": null,
   "metadata": {},
   "outputs": [],
   "source": [
    "19989/10"
   ]
  },
  {
   "cell_type": "code",
   "execution_count": null,
   "metadata": {},
   "outputs": [],
   "source": [
    "len(list(range(0,len(buildingFileNames))))"
   ]
  },
  {
   "cell_type": "code",
   "execution_count": null,
   "metadata": {
    "collapsed": true
   },
   "outputs": [],
   "source": []
  },
  {
   "cell_type": "code",
   "execution_count": null,
   "metadata": {
    "collapsed": true
   },
   "outputs": [],
   "source": []
  },
  {
   "cell_type": "code",
   "execution_count": null,
   "metadata": {
    "collapsed": true
   },
   "outputs": [],
   "source": []
  },
  {
   "cell_type": "code",
   "execution_count": null,
   "metadata": {
    "collapsed": true
   },
   "outputs": [],
   "source": []
  },
  {
   "cell_type": "code",
   "execution_count": null,
   "metadata": {
    "collapsed": true
   },
   "outputs": [],
   "source": []
  },
  {
   "cell_type": "code",
   "execution_count": null,
   "metadata": {
    "collapsed": true
   },
   "outputs": [],
   "source": []
  },
  {
   "cell_type": "markdown",
   "metadata": {},
   "source": [
    "## checktest"
   ]
  },
  {
   "cell_type": "code",
   "execution_count": null,
   "metadata": {
    "scrolled": false
   },
   "outputs": [],
   "source": []
  },
  {
   "cell_type": "code",
   "execution_count": null,
   "metadata": {
    "collapsed": true
   },
   "outputs": [],
   "source": [
    "# Standardize images across the dataset, mean=0, stdev=1\n",
    "# XX K.set_image_dim_ordering('th')\n",
    "\n",
    "from keras.preprocessing.image import ImageDataGenerator, array_to_img, img_to_array, load_img\n",
    "from keras import backend as K\n",
    "\n",
    "fa= 1220\n",
    "fb= 1226\n",
    "\n",
    "for imgN in range(len(buildingFileNames[fa:fb])):\n",
    "    #load img\n",
    "    img = load_img(buildingFileNames[fa:fb][imgN])  # this is a PIL image | float32\n",
    "    # preprocess to shape keras needs\n",
    "    x = img_to_array(img)\n",
    "    #x.shape\n",
    "    xx = x.reshape(1, x.shape[0], x.shape[1], x.shape[2])\n",
    "\n",
    "    ## define data preparation\n",
    "    datagen = ImageDataGenerator(\n",
    "                                ##rotation_range=180,\n",
    "                                rotation_range=2,\n",
    "                                horizontal_flip=True,\n",
    "                                vertical_flip=True,                            \n",
    "                                ##zoom_range = [0.8,0.8],                            \n",
    "                                )\n",
    "\n",
    "    # fit parameters from data\n",
    "    # datagen.fit(X_train)\n",
    "    datagen.fit(xx,augment=True)\n",
    "    \n",
    "    print('Augmenting Img: ' + buildingFileNames[fa:fb][imgN].split('/')[-1] + ' -------')\n",
    "    \n",
    "    plt.figure(figsize=(10,10))\n",
    "    i = 0\n",
    "    for batch in datagen.flow(xx, batch_size=1,\n",
    "#                               save_to_dir=path+'/building_set/augmented', \n",
    "#                               save_prefix='b_'+ buildingFileNames[imgN].split('/')[-1][:-4] +'_', \n",
    "#                               save_format='tif'\n",
    "                             ):\n",
    "\n",
    "        for n in range(0, 9):\n",
    "           plt.subplot(330 + 1 + i)\n",
    "           plt.imshow(array_to_img(batch[0]))\n",
    "\n",
    "        i += 1\n",
    "        if i >= 9: #20:\n",
    "            break     \n",
    "\n",
    "            "
   ]
  },
  {
   "cell_type": "code",
   "execution_count": null,
   "metadata": {
    "collapsed": true
   },
   "outputs": [],
   "source": [
    "# Augmenting Img: 314787.tif -------\n",
    "# Augmenting Img: 431807.tif -------\n",
    "# Augmenting Img: 763158.tif -------\n",
    "# Augmenting Img: 352120.tif -------\n",
    "# Augmenting Img: 246733.tif -------\n",
    "# Augmenting Img: 653328.tif -------            "
   ]
  },
  {
   "cell_type": "code",
   "execution_count": null,
   "metadata": {},
   "outputs": [],
   "source": [
    "!pwd"
   ]
  },
  {
   "cell_type": "code",
   "execution_count": null,
   "metadata": {
    "collapsed": true
   },
   "outputs": [],
   "source": [
    "img0 = load_img('/home/ubuntu/pynb/##### #####/#####/augmented/b_352120__0_1528.tif') "
   ]
  },
  {
   "cell_type": "code",
   "execution_count": null,
   "metadata": {},
   "outputs": [],
   "source": [
    "img0"
   ]
  },
  {
   "cell_type": "code",
   "execution_count": null,
   "metadata": {},
   "outputs": [],
   "source": [
    "img_to_array(img0).shape"
   ]
  },
  {
   "cell_type": "code",
   "execution_count": null,
   "metadata": {
    "collapsed": true
   },
   "outputs": [],
   "source": []
  }
 ],
 "metadata": {
  "hide_input": false,
  "kernelspec": {
   "display_name": "Python 3",
   "language": "python",
   "name": "python3"
  },
  "language_info": {
   "codemirror_mode": {
    "name": "ipython",
    "version": 3
   },
   "file_extension": ".py",
   "mimetype": "text/x-python",
   "name": "python",
   "nbconvert_exporter": "python",
   "pygments_lexer": "ipython3",
   "version": "3.6.1"
  }
 },
 "nbformat": 4,
 "nbformat_minor": 2
}
