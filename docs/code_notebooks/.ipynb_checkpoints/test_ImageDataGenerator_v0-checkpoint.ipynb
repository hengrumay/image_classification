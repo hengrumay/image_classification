{
 "cells": [
  {
   "cell_type": "markdown",
   "metadata": {},
   "source": [
    "Useful Refs\n",
    "\n",
    "- http://machinelearningmastery.com/image-augmentation-deep-learning-keras/\n",
    "- https://keras.io/preprocessing/image/\n",
    "- **https://github.com/fchollet/keras/blob/master/keras/preprocessing/image.py   \n",
    "\n",
    "\n",
    "\n",
    "- https://www.kaggle.com/hexietufts/ultrasound-nerve-segmentation/easy-to-use-keras-imagedatagenerator\n",
    "\n",
    "- https://blog.keras.io/building-powerful-image-classification-models-using-very-little-data.html\n",
    "\n",
    "\n",
    "## *\n",
    "- http://www.scipy-lectures.org/packages/scikit-image/\n",
    "- http://www.scipy-lectures.org/advanced/image_processing/\n",
    "- https://in.pycon.org/2010/static/files/talks/33/PyCon2010ImageProcessingAnilCR.pdf\n",
    "- http://pythonvision.org/basic-tutorial/\n",
    "- https://github.com/EdwardTyantov/ultrasound-nerve-segmentation/blob/master/augmentation.py    \n",
    "- http://pythonvision.org/basic-tutorial/   \n",
    "\n",
    "\n",
    "- http://tensorlayer.readthedocs.io/en/latest/modules/prepro.html\n"
   ]
  },
  {
   "cell_type": "code",
   "execution_count": 1,
   "metadata": {
    "collapsed": true
   },
   "outputs": [],
   "source": [
    "%matplotlib inline\n",
    "import matplotlib.pyplot as plt\n",
    "import matplotlib.image as mpimg\n",
    "import numpy as np"
   ]
  },
  {
   "cell_type": "code",
   "execution_count": 2,
   "metadata": {
    "collapsed": true
   },
   "outputs": [],
   "source": [
    "# !pwd\n",
    "# path='/Users/#####'\n",
    "# path = '/home/ubuntu/pynb/#####'\n"
   ]
  },
  {
   "cell_type": "code",
   "execution_count": 3,
   "metadata": {
    "collapsed": true
   },
   "outputs": [],
   "source": [
    "## Get fullpaths to img files\n",
    "import glob, os, sys\n",
    "\n",
    "btmp = glob.glob(os.path.join(path+'/building_set/buildings/','*.tif')) #os.listdir( path+'/building_set/buildings/' )\n",
    "# buildingFileNames\n",
    "nbtmp = glob.glob(os.path.join(path+'/building_set/no_buildings/','*.tif')) #os.listdir( path+'/building_set/no_buildings' )\n",
    "# nobuildingFileNames\n",
    "\n",
    "buildingFileNames = btmp\n",
    "nobuildingFileNames = nbtmp\n"
   ]
  },
  {
   "cell_type": "code",
   "execution_count": 4,
   "metadata": {},
   "outputs": [
    {
     "data": {
      "text/plain": [
       "(2000, 20000)"
      ]
     },
     "execution_count": 4,
     "metadata": {},
     "output_type": "execute_result"
    }
   ],
   "source": [
    "len(buildingFileNames),len(nobuildingFileNames)"
   ]
  },
  {
   "cell_type": "code",
   "execution_count": 90,
   "metadata": {
    "collapsed": true
   },
   "outputs": [],
   "source": [
    "# test_img = path+'/building_set/train/buildings/100208.tif'\n",
    "# img = path+'/building_set/train/buildings/454619.tif'"
   ]
  },
  {
   "cell_type": "code",
   "execution_count": 5,
   "metadata": {},
   "outputs": [
    {
     "name": "stderr",
     "output_type": "stream",
     "text": [
      "Using TensorFlow backend.\n"
     ]
    }
   ],
   "source": [
    "from keras.preprocessing.image import ImageDataGenerator, array_to_img, img_to_array, load_img"
   ]
  },
  {
   "cell_type": "code",
   "execution_count": 21,
   "metadata": {},
   "outputs": [],
   "source": [
    "# load_img(buildingFileNames[0]) "
   ]
  },
  {
   "cell_type": "code",
   "execution_count": 22,
   "metadata": {},
   "outputs": [],
   "source": [
    "# load_img(nobuildingFileNames[0])"
   ]
  },
  {
   "cell_type": "code",
   "execution_count": null,
   "metadata": {},
   "outputs": [],
   "source": [
    "plt.figure(figsize=(10,10))\n",
    "for i in range(0, 9):\n",
    "    plt.subplot(330 + 1 + i)\n",
    "    plt.imshow(load_img(buildingFileNames[i]))"
   ]
  },
  {
   "cell_type": "code",
   "execution_count": null,
   "metadata": {},
   "outputs": [],
   "source": [
    "plt.figure(figsize=(10,10))\n",
    "for i in range(0, 9):\n",
    "    plt.subplot(330 + 1 + i)\n",
    "    plt.imshow(load_img(nobuildingFileNames[i]))"
   ]
  },
  {
   "cell_type": "code",
   "execution_count": null,
   "metadata": {},
   "outputs": [],
   "source": [
    "## simple test\n",
    "# from keras.preprocessing.image import ImageDataGenerator, array_to_img, img_to_array, load_img\n",
    "\n",
    "datagen = ImageDataGenerator(\n",
    "        rescale=8,\n",
    "        rotation_range=60,\n",
    "        width_shift_range=0.2,\n",
    "        height_shift_range=0.2,\n",
    "        shear_range=0.2,\n",
    "        zoom_range= 0.3, #0.2,\n",
    "        horizontal_flip=True,\n",
    "        vertical_flip=True,\n",
    "        fill_mode='constant')\n",
    "\n",
    "#img = load_img('data/train/cats/cat.0.jpg')  # this is a PIL image\n",
    "img = load_img(buildingFileNames[0])  # this is a PIL image\n",
    "x = img_to_array(img)  # this is a Numpy array with shape (3, 150, 150)\n",
    "x = x.reshape((1,) + x.shape)  # this is a Numpy array with shape (1, 3, 150, 150)\n",
    "\n",
    "# the .flow() command below generates batches of randomly transformed images\n",
    "# and saves the results to the `preview/` directory\n",
    "i = 0\n",
    "for batch in datagen.flow(x, batch_size=1,\n",
    "                          save_to_dir=path+'/building_set/preview', save_prefix='b_', save_format='tif'):\n",
    "    i += 1\n",
    "    if i > 20:\n",
    "        break  # otherwise the generator would loop indefinitely"
   ]
  },
  {
   "cell_type": "code",
   "execution_count": null,
   "metadata": {},
   "outputs": [],
   "source": [
    "buildingFileNames[:9]"
   ]
  },
  {
   "cell_type": "code",
   "execution_count": 81,
   "metadata": {},
   "outputs": [
    {
     "data": {
      "text/plain": [
       "'100663.'"
      ]
     },
     "execution_count": 81,
     "metadata": {},
     "output_type": "execute_result"
    }
   ],
   "source": [
    "buildingFileNames[2].split('/')[-1][:-4]"
   ]
  },
  {
   "cell_type": "code",
   "execution_count": 166,
   "metadata": {},
   "outputs": [
    {
     "data": {
      "text/plain": [
       "(250, 255, 3)"
      ]
     },
     "execution_count": 166,
     "metadata": {},
     "output_type": "execute_result"
    }
   ],
   "source": [
    "# img = load_img(buildingFileNames[2])  # this is a PIL image\n",
    "# img = load_img(nobuildingFileNames[1])  # this is a PIL image\n",
    "\n",
    "## Buildings on img edge: lost if over-rotated + zoom\n",
    "# img = load_img(path+'/building_set/train/buildings/454619.tif') \n",
    "img = load_img(path+'/building_set/train/buildings/288278.tif')\n",
    "\n",
    "x = img_to_array(img)\n",
    "x.shape"
   ]
  },
  {
   "cell_type": "code",
   "execution_count": 179,
   "metadata": {},
   "outputs": [],
   "source": [
    "# Standardize images across the dataset, mean=0, stdev=1\n",
    "# XX K.set_image_dim_ordering('th')\n",
    "\n",
    "# from keras.preprocessing.image import ImageDataGenerator, array_to_img, img_to_array, load_img\n",
    "from keras import backend as K\n",
    "\n",
    "# # load data\n",
    "# (X_train, y_train), (X_test, y_test) = mnist.load_data()\n",
    "# # reshape to be [samples][pixels][width][height]\n",
    "# X_train = X_train.reshape(X_train.shape[0], 1, 28, 28)\n",
    "# X_test = X_test.reshape(X_test.shape[0], 1, 28, 28)\n",
    "# # convert from int to float\n",
    "# X_train = X_train.astype('float32')\n",
    "# X_test = X_test.astype('float32')\n",
    "\n",
    "xx = x.reshape(1, x.shape[0], x.shape[1], x.shape[2])\n",
    "\n",
    "## define data preparation\n",
    "\n",
    "# shift = 0.2\n",
    "# featurewise_center=True, \n",
    "# featurewise_std_normalization=True,\n",
    "# XX# zca_whitening=True,\n",
    "# XX# width_shift_range=shift, height_shift_range=shift,\n",
    "#rescale=10,\n",
    "\n",
    "datagen = ImageDataGenerator(\n",
    "#                             rotation_range=180,\n",
    "                            rotation_range=2,\n",
    "                            horizontal_flip=True,\n",
    "                            vertical_flip=True,                            \n",
    "#                             zoom_range = [0.8,0.8],                            \n",
    "                            )\n",
    "\n",
    "# fit parameters from data\n",
    "# datagen.fit(X_train)\n",
    "datagen.fit(xx,augment=True)\n",
    "\n",
    "# # configure batch size and retrieve one batch of images\n",
    "# for X_batch, y_batch in datagen.flow(X_train, y_train, batch_size=9):\n",
    "# \t# create a grid of 3x3 images\n",
    "# \tfor i in range(0, 9):\n",
    "# \t\tpyplot.subplot(330 + 1 + i)\n",
    "# \t\tpyplot.imshow(X_batch[i].reshape(28, 28), cmap=pyplot.get_cmap('gray'))\n",
    "# \t# show the plot\n",
    "# \tpyplot.show()\n",
    "# \tbreak"
   ]
  },
  {
   "cell_type": "code",
   "execution_count": null,
   "metadata": {},
   "outputs": [],
   "source": [
    "# for xxx in datagen.flow(xx, batch_size=1):\n",
    "#     plt.imshow(array_to_img(xxx[0]))\n",
    "\n",
    "plt.figure(figsize=(10,10))\n",
    "i = 0\n",
    "for batch in datagen.flow(xx, batch_size=1,\n",
    "                          #save_to_dir=path+'/building_set/preview', \n",
    "                          #save_prefix='b_',\n",
    "#                           save_to_dir=path+'/building_set/augmented', \n",
    "#                           save_prefix='b_'+buildingFileNames[2].split('/')[-1][:-4] +'_', \n",
    "#                           save_format='tif'\n",
    "                         ):\n",
    "\n",
    "    for n in range(0, 9):\n",
    "        plt.subplot(330 + 1 + i)\n",
    "        plt.imshow(array_to_img(batch[0]))\n",
    "        \n",
    "    i += 1\n",
    "    if i >= 9: #20:\n",
    "        break     "
   ]
  },
  {
   "cell_type": "code",
   "execution_count": null,
   "metadata": {},
   "outputs": [],
   "source": [
    "plt.imshow(array_to_img(x))"
   ]
  },
  {
   "cell_type": "code",
   "execution_count": null,
   "metadata": {
    "collapsed": true
   },
   "outputs": [],
   "source": []
  }
 ],
 "metadata": {
  "kernelspec": {
   "display_name": "Python 3",
   "language": "python",
   "name": "python3"
  },
  "language_info": {
   "codemirror_mode": {
    "name": "ipython",
    "version": 3
   },
   "file_extension": ".py",
   "mimetype": "text/x-python",
   "name": "python",
   "nbconvert_exporter": "python",
   "pygments_lexer": "ipython3",
   "version": "3.6.1"
  }
 },
 "nbformat": 4,
 "nbformat_minor": 2
}
