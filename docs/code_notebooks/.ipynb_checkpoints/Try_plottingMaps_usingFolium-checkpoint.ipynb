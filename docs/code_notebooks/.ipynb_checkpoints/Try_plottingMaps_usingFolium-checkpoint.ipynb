{
 "cells": [
  {
   "cell_type": "markdown",
   "metadata": {},
   "source": [
    "#### Create more interactive maps showing classification outcomes using Folium\n",
    "- overlay open street maps using cartoDB baselayers  \n",
    "- show where correct/wrong-ly classified images are located  \n",
    "- save as html file \n",
    "\n",
    "\n",
    "- Ref: http://localhost:8888/notebooks/load_HoldoutPredictions_plotImageClassPredictions_v0.ipynb  \n",
    "- previous static version: http://localhost:8888/notebooks/explore_imagesNgeojson_v1.ipynb"
   ]
  },
  {
   "cell_type": "markdown",
   "metadata": {
    "collapsed": true
   },
   "source": [
    "#### General REQs"
   ]
  },
  {
   "cell_type": "code",
   "execution_count": 108,
   "metadata": {
    "collapsed": true
   },
   "outputs": [],
   "source": [
    "%matplotlib inline\n",
    "import matplotlib.pyplot as plt\n",
    "import matplotlib.image as mpimg\n",
    "\n",
    "import numpy as np\n",
    "import pandas as pd\n",
    "\n",
    "import geopandas as gpd\n",
    "import gdal"
   ]
  },
  {
   "cell_type": "markdown",
   "metadata": {
    "collapsed": true
   },
   "source": [
    "#### Load geojson info | data"
   ]
  },
  {
   "cell_type": "code",
   "execution_count": 54,
   "metadata": {
    "collapsed": true
   },
   "outputs": [],
   "source": [
    "df_joined = pd.read_csv('./building_set/combined_geojsonInfo.csv', index_col=0)"
   ]
  },
  {
   "cell_type": "code",
   "execution_count": 55,
   "metadata": {
    "collapsed": true
   },
   "outputs": [],
   "source": [
    "Gdf = gpd.GeoDataFrame(df_joined) #not sure if this converts it properly..."
   ]
  },
  {
   "cell_type": "code",
   "execution_count": 62,
   "metadata": {},
   "outputs": [
    {
     "data": {
      "text/html": [
       "<div>\n",
       "<table border=\"1\" class=\"dataframe\">\n",
       "  <thead>\n",
       "    <tr style=\"text-align: right;\">\n",
       "      <th></th>\n",
       "      <th>index</th>\n",
       "      <th>class_name</th>\n",
       "      <th>feature_id</th>\n",
       "      <th>geometry</th>\n",
       "      <th>x</th>\n",
       "      <th>y</th>\n",
       "      <th>xy</th>\n",
       "    </tr>\n",
       "  </thead>\n",
       "  <tbody>\n",
       "    <tr>\n",
       "      <th>0</th>\n",
       "      <td>0</td>\n",
       "      <td>Buildings</td>\n",
       "      <td>298021</td>\n",
       "      <td>POLYGON ((14.20433772170354 12.36790308324247,...</td>\n",
       "      <td>14.204910</td>\n",
       "      <td>12.368465</td>\n",
       "      <td>[14.204909841113661, 12.368464982853263]</td>\n",
       "    </tr>\n",
       "    <tr>\n",
       "      <th>1</th>\n",
       "      <td>1</td>\n",
       "      <td>Buildings</td>\n",
       "      <td>624999</td>\n",
       "      <td>POLYGON ((13.57843908703417 11.33400779938784,...</td>\n",
       "      <td>13.579011</td>\n",
       "      <td>11.334570</td>\n",
       "      <td>[13.57901120644429, 11.334569698998633]</td>\n",
       "    </tr>\n",
       "    <tr>\n",
       "      <th>2</th>\n",
       "      <td>2</td>\n",
       "      <td>Buildings</td>\n",
       "      <td>297460</td>\n",
       "      <td>POLYGON ((13.95718213653246 11.35873138226263,...</td>\n",
       "      <td>13.957754</td>\n",
       "      <td>11.359293</td>\n",
       "      <td>[13.957754255942577, 11.359293281873416]</td>\n",
       "    </tr>\n",
       "    <tr>\n",
       "      <th>3</th>\n",
       "      <td>3</td>\n",
       "      <td>Buildings</td>\n",
       "      <td>57828</td>\n",
       "      <td>POLYGON ((13.69629568551853 11.5149394740624, ...</td>\n",
       "      <td>13.696868</td>\n",
       "      <td>11.515501</td>\n",
       "      <td>[13.696867804928653, 11.515501373673192]</td>\n",
       "    </tr>\n",
       "    <tr>\n",
       "      <th>4</th>\n",
       "      <td>4</td>\n",
       "      <td>Buildings</td>\n",
       "      <td>162112</td>\n",
       "      <td>POLYGON ((14.28100172265939 11.33288400016626,...</td>\n",
       "      <td>14.281574</td>\n",
       "      <td>11.333446</td>\n",
       "      <td>[14.281573842069509, 11.33344589977705]</td>\n",
       "    </tr>\n",
       "  </tbody>\n",
       "</table>\n",
       "</div>"
      ],
      "text/plain": [
       "   index class_name  feature_id  \\\n",
       "0      0  Buildings      298021   \n",
       "1      1  Buildings      624999   \n",
       "2      2  Buildings      297460   \n",
       "3      3  Buildings       57828   \n",
       "4      4  Buildings      162112   \n",
       "\n",
       "                                            geometry          x          y  \\\n",
       "0  POLYGON ((14.20433772170354 12.36790308324247,...  14.204910  12.368465   \n",
       "1  POLYGON ((13.57843908703417 11.33400779938784,...  13.579011  11.334570   \n",
       "2  POLYGON ((13.95718213653246 11.35873138226263,...  13.957754  11.359293   \n",
       "3  POLYGON ((13.69629568551853 11.5149394740624, ...  13.696868  11.515501   \n",
       "4  POLYGON ((14.28100172265939 11.33288400016626,...  14.281574  11.333446   \n",
       "\n",
       "                                         xy  \n",
       "0  [14.204909841113661, 12.368464982853263]  \n",
       "1   [13.57901120644429, 11.334569698998633]  \n",
       "2  [13.957754255942577, 11.359293281873416]  \n",
       "3  [13.696867804928653, 11.515501373673192]  \n",
       "4   [14.281573842069509, 11.33344589977705]  "
      ]
     },
     "execution_count": 62,
     "metadata": {},
     "output_type": "execute_result"
    }
   ],
   "source": [
    "Gdf.head()"
   ]
  },
  {
   "cell_type": "code",
   "execution_count": 63,
   "metadata": {
    "collapsed": true
   },
   "outputs": [],
   "source": [
    "Gdf_B = Gdf[Gdf.class_name=='Buildings']\n",
    "Gdf_NB = Gdf[Gdf.class_name=='No Buildings']"
   ]
  },
  {
   "cell_type": "code",
   "execution_count": 65,
   "metadata": {},
   "outputs": [
    {
     "data": {
      "text/plain": [
       "((2000, 7), (20000, 7))"
      ]
     },
     "execution_count": 65,
     "metadata": {},
     "output_type": "execute_result"
    }
   ],
   "source": [
    "Gdf_B.shape, Gdf_NB.shape"
   ]
  },
  {
   "cell_type": "code",
   "execution_count": null,
   "metadata": {
    "collapsed": true
   },
   "outputs": [],
   "source": []
  },
  {
   "cell_type": "code",
   "execution_count": null,
   "metadata": {
    "collapsed": true
   },
   "outputs": [],
   "source": []
  },
  {
   "cell_type": "markdown",
   "metadata": {},
   "source": [
    "### Refs for Folium & Carto Mapping\n",
    "- https://folium.readthedocs.io/en/latest/index.html || https://github.com/python-visualization/folium\n",
    "- https://gist.github.com/wrobstory/5558986  \n",
    "- https://python-visualization.github.io/folium/module/features.html  \n",
    "- https://ocefpaf.github.io/python4oceanographers/blog/2015/12/14/geopandas_folium/\n",
    "\n",
    "\n",
    "- https://carto.com/location-data-services/basemaps/\n",
    "- https://carto.com/docs/carto-editor/maps#including-an-external-basemap\n"
   ]
  },
  {
   "cell_type": "code",
   "execution_count": null,
   "metadata": {
    "collapsed": true
   },
   "outputs": [],
   "source": [
    "# import folium\n",
    "# from matplotlib.colors import Normalize, rgb2hex \n",
    "# import matplotlib.cm as cm\n"
   ]
  },
  {
   "cell_type": "markdown",
   "metadata": {},
   "source": [
    "#### Try Basic mapping... of approx. mean lat/long coords "
   ]
  },
  {
   "cell_type": "code",
   "execution_count": 129,
   "metadata": {
    "collapsed": true
   },
   "outputs": [],
   "source": [
    "import folium\n",
    "from matplotlib.colors import Normalize, rgb2hex \n",
    "import matplotlib.cm as cm\n",
    "\n",
    "\n",
    "# norm = Normalize(Var.min(), Var.max())\n",
    "\n",
    "# Get dark tileset from CartoBD (https://cartodb.com/basemaps)\n",
    "tileset = r'http://{s}.basemaps.cartocdn.com/light_all/{z}/{x}/{y}@2x.png'\n",
    "\n",
    "test_map = folium.Map(location = [14, 12], width = 980, height = 800,\n",
    "                               tiles = tileset,\n",
    "                               attr = '&copy; <a href=\"http://www.openstreetmap.org/copyright\">OpenStreetMap</a> contributors, &copy; <a href=\"http://cartodb.com/attributions\">CartoDB</a>',\n",
    "                               zoom_start = 3)\n",
    "\n",
    "test_map.add_child(folium.CircleMarker(location = [12,14],\n",
    "                                        popup = 'test',\n",
    "                                        radius = 5,\n",
    "                                        color = 'black',#'#f44242',\n",
    "                                        fill_color = 'black',#'#f44242',# line_color = '#f44242'\n",
    "                                      )\n",
    "                  )\n",
    "\n",
    "test_map.save(outfile = './Folium_maps/test_map.html')\n",
    "\n",
    "del test_map"
   ]
  },
  {
   "cell_type": "code",
   "execution_count": null,
   "metadata": {
    "collapsed": true
   },
   "outputs": [],
   "source": [
    "from IPython.display import IFrame\n",
    "IFrame('../Folium_maps/test_map.html', width = 980, height = 800)"
   ]
  },
  {
   "cell_type": "markdown",
   "metadata": {},
   "source": [
    "#### Plot all B | NB image centroid loc "
   ]
  },
  {
   "cell_type": "code",
   "execution_count": 123,
   "metadata": {
    "collapsed": true
   },
   "outputs": [],
   "source": [
    "import folium\n",
    "from matplotlib.colors import Normalize, rgb2hex \n",
    "import matplotlib.cm as cm\n",
    "\n",
    "\n",
    "# norm = Normalize(Var.min(), Var.max())\n",
    "# color = rgb2hex(cm.nipy_spectral(norm(row['Var'])))\n",
    "\n",
    "# Get dark tileset from CartoBD (https://cartodb.com/basemaps)\n",
    "tileset = r'http://{s}.basemaps.cartocdn.com/light_all/{z}/{x}/{y}@2x.png'\n",
    "\n",
    "test_map = folium.Map(location = [14, 12], width = 980, height = 800,\n",
    "                               tiles = tileset,\n",
    "                               attr = '&copy; <a href=\"http://www.openstreetmap.org/copyright\">OpenStreetMap</a> contributors, &copy; <a href=\"http://cartodb.com/attributions\">CartoDB</a>',\n",
    "                               zoom_start = 3)\n",
    "\n",
    "\n",
    "for index, row in Gdf_NB.iterrows():\n",
    "    test_map.add_child(folium.CircleMarker(location = [row['y'],row['x']],\n",
    "                                            popup = 'No Building',\n",
    "                                            radius = 5,\n",
    "                                            color = '#606060', #'#bababa', #'#158c3e',#\n",
    "                                            fill_color = '#606060', #'#bababa', #'black', #'#158c3e',# line_color = '#f44242'\n",
    "                                          )\n",
    "                      )\n",
    "    \n",
    "for index, row in Gdf_B.iterrows():\n",
    "    test_map.add_child(folium.CircleMarker(location = [row['y'],row['x']],\n",
    "                                            popup = 'Building',\n",
    "                                            radius = 5,\n",
    "                                            color = '#f4a742', #'#f44242',\n",
    "                                            fill_color = '#f4a742', #'#f44242',# line_color = '#f44242'\n",
    "                                          )\n",
    "                      )\n",
    "\n",
    "\n",
    "# test_map.save(outfile = './Folium_maps/map_B_NB_v1.html') ##takes forever to build... don't overwrite...\n",
    "test_map.save(outfile = './Folium_maps/test_map1.html')\n",
    "\n",
    "del test_map"
   ]
  },
  {
   "cell_type": "code",
   "execution_count": null,
   "metadata": {
    "collapsed": true
   },
   "outputs": [],
   "source": [
    "from IPython.display import IFrame\n",
    "IFrame('../Folium_maps/map_B_NB_v4.html', width = 980, height = 800)\n",
    "# IFrame('./Folium_maps/test_map1.html', width = 980, height = 800)"
   ]
  },
  {
   "cell_type": "code",
   "execution_count": null,
   "metadata": {
    "collapsed": true
   },
   "outputs": [],
   "source": []
  },
  {
   "cell_type": "markdown",
   "metadata": {},
   "source": [
    "#### Plot Holdout Classification Outcomes for B | NB images"
   ]
  },
  {
   "cell_type": "code",
   "execution_count": 98,
   "metadata": {
    "collapsed": true
   },
   "outputs": [],
   "source": [
    "df_HOpred = pd.read_csv('./building_set/HoldoutPredict_CombinedGeoInfo.csv')"
   ]
  },
  {
   "cell_type": "code",
   "execution_count": 101,
   "metadata": {
    "collapsed": true
   },
   "outputs": [],
   "source": [
    "Gdf_HOpred = gpd.GeoDataFrame(df_HOpred)"
   ]
  },
  {
   "cell_type": "code",
   "execution_count": null,
   "metadata": {
    "collapsed": true
   },
   "outputs": [],
   "source": [
    "df_HOpred.head()"
   ]
  },
  {
   "cell_type": "code",
   "execution_count": null,
   "metadata": {
    "collapsed": true
   },
   "outputs": [],
   "source": [
    "B_predDF = df_HOpred[df_HOpred.Blabel==1]\n",
    "NB_predDF = df_HOpred[df_HOpred.Blabel==0]\n",
    "\n",
    "B_pNB_DF = df_HOpred[df_HOpred.predict_diff==1]\n",
    "NB_pB_DF = df_HOpred[df_HOpred.predict_diff==-1]\n"
   ]
  },
  {
   "cell_type": "code",
   "execution_count": null,
   "metadata": {
    "collapsed": true
   },
   "outputs": [],
   "source": [
    "import folium\n",
    "from matplotlib.colors import Normalize, rgb2hex \n",
    "import matplotlib.cm as cm\n",
    "\n",
    "\n",
    "# norm = Normalize(Var.min(), Var.max())\n",
    "# color = rgb2hex(cm.nipy_spectral(norm(row['Var'])))\n",
    "\n",
    "# Get dark tileset from CartoBD (https://cartodb.com/basemaps)\n",
    "tileset = r'http://{s}.basemaps.cartocdn.com/light_all/{z}/{x}/{y}@2x.png'\n",
    "\n",
    "test_map = folium.Map(location = [14, 12], width = 1600, height = 1000,\n",
    "                               tiles = tileset,\n",
    "                               attr = '&copy; <a href=\"http://www.openstreetmap.org/copyright\">OpenStreetMap</a> contributors, &copy; <a href=\"http://cartodb.com/attributions\">CartoDB</a>',\n",
    "                               zoom_start = 3)\n",
    "\n",
    "\n",
    "for index, row in NB_predDF.iterrows():\n",
    "    test_map.add_child(folium.CircleMarker(location = [row['y'],row['x']],\n",
    "                                            popup = 'No Building',\n",
    "                                            radius = 5,\n",
    "                                            color = '#606060',#'#158c3e',#\n",
    "                                            fill_color = '#606060', #'black', #'#158c3e',# line_color = '#f44242'\n",
    "                                          )\n",
    "                      )\n",
    "    \n",
    "for index, row in B_predDF.iterrows():\n",
    "    test_map.add_child(folium.CircleMarker(location = [row['y'],row['x']],\n",
    "                                            popup = 'Building',\n",
    "                                            radius = 5,\n",
    "                                            color = '#f4a742', #'#f44242',\n",
    "                                            fill_color = '#f4a742', #'#f44242',# line_color = '#f44242'\n",
    "                                          )\n",
    "                      )\n",
    "\n",
    "\n",
    "for index, row in NB_pB_DF.iterrows():\n",
    "    test_map.add_child(folium.CircleMarker(location = [row['y'],row['x']],\n",
    "                                            popup = 'No Building | predicted Building',\n",
    "                                            radius = 5,\n",
    "                                            color = 'black' ,#'#bababa', #'#\n",
    "                                            fill_color = 'black',#'#bababa', #'black', #'#158c3e',# line_color = '#f44242'\n",
    "                                          )\n",
    "                      )\n",
    "    \n",
    "for index, row in B_pNB_DF.iterrows():\n",
    "    test_map.add_child(folium.CircleMarker(location = [row['y'],row['x']],\n",
    "                                            popup = 'Building | Predicted No Building',\n",
    "                                            radius = 5,\n",
    "                                            color = '#6d0c0c', #'#f44242',\n",
    "                                            fill_color = '#6d0c0c', #'#f44242',# line_color = '#f44242'\n",
    "                                          )\n",
    "                      )\n",
    "    \n",
    "    \n",
    "# test_map.save(outfile = './Folium_maps/map_predict_v0.html') ##takes forever to build... don't overwrite...\n",
    "test_map.save(outfile = './Folium_maps/test_map2.html')\n",
    "\n",
    "del test_map"
   ]
  },
  {
   "cell_type": "code",
   "execution_count": 2,
   "metadata": {},
   "outputs": [
    {
     "data": {
      "text/html": [
       "\n",
       "        <iframe\n",
       "            width=\"980\"\n",
       "            height=\"800\"\n",
       "            src=\"../Folium_maps/map_predict_v1.html\"\n",
       "            frameborder=\"0\"\n",
       "            allowfullscreen\n",
       "        ></iframe>\n",
       "        "
      ],
      "text/plain": [
       "<IPython.lib.display.IFrame at 0x10a7dfc88>"
      ]
     },
     "execution_count": 2,
     "metadata": {},
     "output_type": "execute_result"
    }
   ],
   "source": [
    "from IPython.display import IFrame\n",
    "IFrame('../Folium_maps/map_predict_v1.html', width = 980, height = 800)\n",
    "# IFrame('./Folium_maps/test_map2.html', width = 980, height = 800)"
   ]
  },
  {
   "cell_type": "code",
   "execution_count": null,
   "metadata": {
    "collapsed": true
   },
   "outputs": [],
   "source": []
  },
  {
   "cell_type": "code",
   "execution_count": null,
   "metadata": {
    "collapsed": true
   },
   "outputs": [],
   "source": []
  }
 ],
 "metadata": {
  "kernelspec": {
   "display_name": "Python 3",
   "language": "python",
   "name": "python3"
  },
  "language_info": {
   "codemirror_mode": {
    "name": "ipython",
    "version": 3
   },
   "file_extension": ".py",
   "mimetype": "text/x-python",
   "name": "python",
   "nbconvert_exporter": "python",
   "pygments_lexer": "ipython3",
   "version": "3.6.1"
  }
 },
 "nbformat": 4,
 "nbformat_minor": 2
}
