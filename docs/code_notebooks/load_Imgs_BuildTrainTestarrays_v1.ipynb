{
 "cells": [
  {
   "cell_type": "code",
   "execution_count": null,
   "metadata": {
    "collapsed": true
   },
   "outputs": [],
   "source": []
  },
  {
   "cell_type": "markdown",
   "metadata": {},
   "source": [
    "### UNBALANCED DATASET \n",
    "- https://www.quora.com/In-classification-how-do-you-handle-an-unbalanced-training-set  \n",
    "- http://machinelearningmastery.com/tactics-to-combat-imbalanced-classes-in-your-machine-learning-dataset/  \n",
    "- https://github.com/scikit-learn-contrib/imbalanced-learn  \n",
    "- https://shiring.github.io/machine_learning/2017/04/02/unbalanced  "
   ]
  },
  {
   "cell_type": "markdown",
   "metadata": {
    "collapsed": true
   },
   "source": [
    "\n",
    "#### TRY small equal subset of ALL DATA  \n",
    "N=2000 each : a bit above chance model v0/v1 (acc~55-61%) || Not great ...  ref -- model_v1#.h5  \n",
    "Ref: http://localhost:8888/notebooks/load_Imgs_runtestCNN_v0.ipynb\n",
    "\n",
    "\n",
    "#### > TRY ALL DATA  -- 1:10 ratio train-test   \n",
    "not great -- zero recall for images with buildings... ref -- model_v2#.h5   \n",
    "Ref: http://localhost:8888/notebooks/load_Imgs_runtestCNN_v1.ipynb\n",
    "\n",
    "\n",
    "#### >> TRY Upsampling Bclass and Downsampling NBclass\n",
    "N=6000 each : PROMISING with cnn_model v3 (train-test acc~97%) | transfer_VGG16_model v4 (train-test acc~93%)   \n",
    "Ref: http://localhost:8888/notebooks/load_Imgs_runtestCNN_v1.ipynb   ||  http://localhost:8888/notebooks/load_Imgs_runtestCNN_v2_tryVGG16Transfer.ipynb\n",
    "- train-test: N=6000 each --- b_2000 + 4000_randomSampling || nb_6000   \n",
    "- ** however val data also has mixture of oversampled data... so not ideal...\n",
    "\n"
   ]
  },
  {
   "cell_type": "markdown",
   "metadata": {},
   "source": [
    "#### General REQs"
   ]
  },
  {
   "cell_type": "code",
   "execution_count": 1,
   "metadata": {
    "collapsed": true
   },
   "outputs": [],
   "source": [
    "%matplotlib inline\n",
    "import matplotlib.pyplot as plt\n",
    "import matplotlib.image as mpimg\n",
    "import numpy as np\n",
    "import pandas as pd"
   ]
  },
  {
   "cell_type": "code",
   "execution_count": 2,
   "metadata": {
    "collapsed": true
   },
   "outputs": [],
   "source": [
    "# !pwd\n",
    "# path='/Users/hrm/Documents/Dropbox/DSrelated/DG_datachallenge'\n",
    "path = '/home/ubuntu/pynb/DG_datachallenge'"
   ]
  },
  {
   "cell_type": "markdown",
   "metadata": {
    "collapsed": true
   },
   "source": [
    "#### File paths"
   ]
  },
  {
   "cell_type": "code",
   "execution_count": 3,
   "metadata": {
    "collapsed": true
   },
   "outputs": [],
   "source": [
    "## Get fullpaths to img files\n",
    "import glob, os, sys\n",
    "\n",
    "btmp = glob.glob(os.path.join(path+'/building_set/buildings/','*.tif')) #os.listdir( path+'/building_set/buildings/' )\n",
    "# buildingFileNames\n",
    "nbtmp = glob.glob(os.path.join(path+'/building_set/no_buildings/','*.tif')) #os.listdir( path+'/building_set/no_buildings' )\n",
    "# nobuildingFileNames\n",
    "\n",
    "buildingFileNames = btmp\n",
    "nobuildingFileNames = nbtmp"
   ]
  },
  {
   "cell_type": "code",
   "execution_count": 4,
   "metadata": {},
   "outputs": [
    {
     "data": {
      "text/plain": [
       "['/home/ubuntu/pynb/DG_datachallenge/building_set/buildings/289840.tif',\n",
       " '/home/ubuntu/pynb/DG_datachallenge/building_set/buildings/188789.tif',\n",
       " '/home/ubuntu/pynb/DG_datachallenge/building_set/buildings/641926.tif']"
      ]
     },
     "execution_count": 4,
     "metadata": {},
     "output_type": "execute_result"
    }
   ],
   "source": [
    "btmp[:3]"
   ]
  },
  {
   "cell_type": "code",
   "execution_count": 5,
   "metadata": {},
   "outputs": [
    {
     "data": {
      "text/plain": [
       "(2000, 20000)"
      ]
     },
     "execution_count": 5,
     "metadata": {},
     "output_type": "execute_result"
    }
   ],
   "source": [
    "len(btmp) , len(nbtmp)"
   ]
  },
  {
   "cell_type": "markdown",
   "metadata": {},
   "source": [
    "#### Define traintest data"
   ]
  },
  {
   "cell_type": "code",
   "execution_count": 4,
   "metadata": {
    "collapsed": true
   },
   "outputs": [],
   "source": [
    "Nimg = 6000\n",
    "\n",
    "btmp1 = [btmp[i] for i in np.random.choice(len(btmp),Nimg-2000,replace=True).tolist()]\n",
    "nbtmp1 = [nbtmp[i] for i in np.random.choice(len(nbtmp),Nimg,replace=False).tolist()]"
   ]
  },
  {
   "cell_type": "code",
   "execution_count": 5,
   "metadata": {},
   "outputs": [
    {
     "data": {
      "text/plain": [
       "4000"
      ]
     },
     "execution_count": 5,
     "metadata": {},
     "output_type": "execute_result"
    }
   ],
   "source": [
    "# btmp1.extend(btmp)\n",
    "len(btmp1)"
   ]
  },
  {
   "cell_type": "code",
   "execution_count": 6,
   "metadata": {
    "collapsed": true
   },
   "outputs": [],
   "source": [
    "btmp1.extend(btmp)\n",
    "buildingFileNames = btmp1\n",
    "nobuildingFileNames = nbtmp1"
   ]
  },
  {
   "cell_type": "code",
   "execution_count": 7,
   "metadata": {},
   "outputs": [
    {
     "data": {
      "text/plain": [
       "6000"
      ]
     },
     "execution_count": 7,
     "metadata": {},
     "output_type": "execute_result"
    }
   ],
   "source": [
    "len(buildingFileNames)"
   ]
  },
  {
   "cell_type": "markdown",
   "metadata": {
    "collapsed": true
   },
   "source": [
    "#### combine all traintest data"
   ]
  },
  {
   "cell_type": "code",
   "execution_count": 8,
   "metadata": {
    "collapsed": true
   },
   "outputs": [],
   "source": [
    "buildDF = pd.DataFrame(buildingFileNames, columns=['filename'])\n",
    "buildDF['Blabel'] = 1\n",
    "nobuildDF = pd.DataFrame(nobuildingFileNames, columns=['filename'])\n",
    "nobuildDF['Blabel'] = 0\n",
    "\n",
    "FileIdx_all = pd.concat([buildDF,nobuildDF])"
   ]
  },
  {
   "cell_type": "code",
   "execution_count": 9,
   "metadata": {},
   "outputs": [
    {
     "data": {
      "text/plain": [
       "1    6000\n",
       "0    6000\n",
       "Name: Blabel, dtype: int64"
      ]
     },
     "execution_count": 9,
     "metadata": {},
     "output_type": "execute_result"
    }
   ],
   "source": [
    "FileIdx_all.Blabel.value_counts()"
   ]
  },
  {
   "cell_type": "code",
   "execution_count": null,
   "metadata": {
    "collapsed": true
   },
   "outputs": [],
   "source": []
  },
  {
   "cell_type": "markdown",
   "metadata": {},
   "source": [
    "#### Define basic image preprocessing "
   ]
  },
  {
   "cell_type": "code",
   "execution_count": 10,
   "metadata": {
    "collapsed": true
   },
   "outputs": [],
   "source": [
    "import numpy as np\n",
    "from skimage import color, exposure, transform\n",
    "\n",
    "# NUM_CLASSES = 2\n",
    "IMG_SIZE = 256\n",
    "\n",
    "def preprocess_img(img):\n",
    "    img=np.array(img)\n",
    "    # Histogram normalization in v channel\n",
    "    hsv = color.rgb2hsv(img)\n",
    "    hsv[:,:,2] = exposure.equalize_hist(hsv[:,:,2])\n",
    "    img = color.hsv2rgb(hsv)\n",
    "\n",
    "    # central square crop\n",
    "    min_side = min(img.shape[:-1])\n",
    "    centre = img.shape[0]//2, img.shape[1]//2\n",
    "    img = img[centre[0]-min_side//2:centre[0]+min_side//2,\n",
    "              centre[1]-min_side//2:centre[1]+min_side//2,\n",
    "              :]\n",
    "\n",
    "    # rescale to standard size\n",
    "    img = transform.resize(img, (IMG_SIZE, IMG_SIZE), mode='constant')\n",
    "\n",
    "    # roll color axis to axis 0\n",
    "    #img = np.rollaxis(img,-1)\n",
    "\n",
    "    return img"
   ]
  },
  {
   "cell_type": "markdown",
   "metadata": {
    "collapsed": true
   },
   "source": [
    "#### Define function to load & run image processing --> image np_arrays"
   ]
  },
  {
   "cell_type": "code",
   "execution_count": 11,
   "metadata": {
    "collapsed": true,
    "scrolled": true
   },
   "outputs": [],
   "source": [
    "from skimage import io\n",
    "import os\n",
    "import glob\n",
    "\n",
    "def get_Fileclass(img_path):\n",
    "    return str(img_path.split('/')[-2])\n",
    "\n",
    "def get_FileName(img_path):\n",
    "    return str(img_path.split('/')[-1])\n",
    "\n",
    "\n",
    "\n",
    "def makeImageXYvars(FileIdx_file):\n",
    "\n",
    "    imgs = []\n",
    "    labels = []\n",
    "    \n",
    "    cnt = 0\n",
    "    N = 0 \n",
    "    imgN = 500\n",
    "    \n",
    "\n",
    "    # TrainImgPaths = FileIdx_Train.ix[FileIdx_Train.sample(2000).Blabel.index.tolist()]\n",
    "    # FileImgPaths = FileIdx_file.ix[FileIdx_file.sample(2000).Blabel.index.tolist()] #randomly samples each time...\n",
    "    \n",
    "    FileImgPaths = FileIdx_file\n",
    "\n",
    "    # for img_path in TrainImgPaths.filename:\n",
    "    for img_path in FileImgPaths.filename:    \n",
    "\n",
    "        img = preprocess_img(io.imread(img_path))  ## add image more pre-processing later...\n",
    "\n",
    "        label = get_Fileclass(img_path)\n",
    "        #print('preprocessing image : '+ label + ' -- ' + get_FileName(img_path))\n",
    "\n",
    "        imgs.append(img)\n",
    "        labels.append(label)\n",
    "\n",
    "        if cnt%imgN==0:\n",
    "            if N==0 & cnt==0:\n",
    "                print('start processing....')\n",
    "            else:\n",
    "                print('preprocessed {0} images ...'.format((N*imgN)))\n",
    "            N += 1\n",
    "        \n",
    "        cnt += 1\n",
    "\n",
    "\n",
    "    X = np.array(imgs, dtype='float32')\n",
    "\n",
    "    # Make one hot targets\n",
    "    Y= FileImgPaths.Blabel.values \n",
    "\n",
    "    return X, Y, FileImgPaths\n"
   ]
  },
  {
   "cell_type": "markdown",
   "metadata": {},
   "source": [
    "#### Run image processing --> np_arrays"
   ]
  },
  {
   "cell_type": "code",
   "execution_count": 12,
   "metadata": {},
   "outputs": [
    {
     "name": "stdout",
     "output_type": "stream",
     "text": [
      "start processing....\n",
      "preprocessed 500 images ...\n",
      "preprocessed 1000 images ...\n",
      "preprocessed 1500 images ...\n",
      "preprocessed 2000 images ...\n",
      "preprocessed 2500 images ...\n",
      "preprocessed 3000 images ...\n",
      "preprocessed 3500 images ...\n",
      "preprocessed 4000 images ...\n",
      "preprocessed 4500 images ...\n",
      "preprocessed 5000 images ...\n",
      "preprocessed 5500 images ...\n",
      "preprocessed 6000 images ...\n",
      "preprocessed 6500 images ...\n",
      "preprocessed 7000 images ...\n",
      "preprocessed 7500 images ...\n",
      "preprocessed 8000 images ...\n",
      "preprocessed 8500 images ...\n",
      "preprocessed 9000 images ...\n",
      "preprocessed 9500 images ...\n",
      "preprocessed 10000 images ...\n",
      "preprocessed 10500 images ...\n",
      "preprocessed 11000 images ...\n",
      "preprocessed 11500 images ...\n"
     ]
    }
   ],
   "source": [
    "# X,Y, FileImgPaths = makeImageXYvars(FileIdx_Train)\n",
    "# X,Y, FileImgPaths = makeImageXYvars(FileIdx_Test)\n",
    "\n",
    "X,Y, FileImgPaths = makeImageXYvars(FileIdx_all)"
   ]
  },
  {
   "cell_type": "code",
   "execution_count": null,
   "metadata": {
    "collapsed": true
   },
   "outputs": [],
   "source": []
  },
  {
   "cell_type": "code",
   "execution_count": 13,
   "metadata": {},
   "outputs": [
    {
     "data": {
      "text/plain": [
       "((12000,), array([1, 1, 1, ..., 0, 0, 0]))"
      ]
     },
     "execution_count": 13,
     "metadata": {},
     "output_type": "execute_result"
    }
   ],
   "source": [
    "Y.shape, Y\n",
    "# ((4000,), array([1, 0, 1, ..., 0, 1, 0]))"
   ]
  },
  {
   "cell_type": "code",
   "execution_count": 14,
   "metadata": {},
   "outputs": [
    {
     "name": "stderr",
     "output_type": "stream",
     "text": [
      "Using TensorFlow backend.\n"
     ]
    }
   ],
   "source": [
    "### RESHAPE Y\n",
    "from keras.utils import np_utils\n",
    "Y=np_utils.to_categorical(Y, 2)"
   ]
  },
  {
   "cell_type": "code",
   "execution_count": null,
   "metadata": {
    "collapsed": true
   },
   "outputs": [],
   "source": []
  },
  {
   "cell_type": "code",
   "execution_count": 17,
   "metadata": {
    "collapsed": true
   },
   "outputs": [],
   "source": [
    "### Include all images\n",
    "from sklearn.model_selection import train_test_split\n",
    "\n",
    "Xtrain, Xtest, Ytrain, Ytest = train_test_split(X, Y, \n",
    "                                                test_size=0.2, random_state=4859, \n",
    "                                                stratify=Y)"
   ]
  },
  {
   "cell_type": "code",
   "execution_count": 18,
   "metadata": {},
   "outputs": [
    {
     "data": {
      "text/plain": [
       "((9600, 256, 256, 3), (2400, 256, 256, 3), (9600, 2), (2400, 2))"
      ]
     },
     "execution_count": 18,
     "metadata": {},
     "output_type": "execute_result"
    }
   ],
   "source": [
    "Xtrain.shape, Xtest.shape, Ytrain.shape, Ytest.shape"
   ]
  },
  {
   "cell_type": "code",
   "execution_count": 40,
   "metadata": {},
   "outputs": [
    {
     "data": {
      "text/plain": [
       "array([[[[ 0.14533462,  0.08018462,  0.05011538],\n",
       "         [ 0.18672346,  0.12199686,  0.09823303],\n",
       "         [ 0.27343839,  0.20749795,  0.17159176],\n",
       "         ..., \n",
       "         [ 0.3326306 ,  0.25188801,  0.2357395 ],\n",
       "         [ 0.39754024,  0.30726337,  0.28920802],\n",
       "         [ 0.40747264,  0.31692314,  0.29881325]],\n",
       "\n",
       "        [[ 0.27411598,  0.17979057,  0.13625576],\n",
       "         [ 0.19345741,  0.12695293,  0.091363  ],\n",
       "         [ 0.15564919,  0.10765772,  0.08105905],\n",
       "         ..., \n",
       "         [ 0.52691501,  0.42058843,  0.39932311],\n",
       "         [ 0.43902066,  0.34304214,  0.32384643],\n",
       "         [ 0.30421129,  0.22670396,  0.21120249]],\n",
       "\n",
       "        [[ 0.29901132,  0.19919762,  0.15312976],\n",
       "         [ 0.20316121,  0.13532358,  0.0986192 ],\n",
       "         [ 0.17929889,  0.12657036,  0.09731615],\n",
       "         ..., \n",
       "         [ 0.52762759,  0.42127022,  0.39999875],\n",
       "         [ 0.33178923,  0.25096816,  0.23480393],\n",
       "         [ 0.12877189,  0.08149989,  0.07204549]],\n",
       "\n",
       "        ..., \n",
       "        [[ 0.88785416,  0.77442509,  0.68429887],\n",
       "         [ 0.90278798,  0.78793347,  0.69664663],\n",
       "         [ 0.93929219,  0.82576835,  0.73735738],\n",
       "         ..., \n",
       "         [ 0.57485223,  0.4521029 ,  0.38625991],\n",
       "         [ 0.47921988,  0.36880139,  0.3085191 ],\n",
       "         [ 0.59507591,  0.472592  ,  0.40572396]],\n",
       "\n",
       "        [[ 0.78936487,  0.70034504,  0.59860802],\n",
       "         [ 0.87221009,  0.78080457,  0.67634112],\n",
       "         [ 0.90007812,  0.78605938,  0.69432229],\n",
       "         ..., \n",
       "         [ 0.47208413,  0.36254087,  0.32169026],\n",
       "         [ 0.47395611,  0.38321102,  0.33279708],\n",
       "         [ 0.55824238,  0.45948127,  0.404614  ]],\n",
       "\n",
       "        [[ 0.81232315,  0.72347534,  0.62193495],\n",
       "         [ 0.84823066,  0.75817102,  0.65524572],\n",
       "         [ 0.81167734,  0.72174227,  0.61895931],\n",
       "         ..., \n",
       "         [ 0.39448208,  0.29660234,  0.26015669],\n",
       "         [ 0.35804057,  0.28169361,  0.23927861],\n",
       "         [ 0.46367976,  0.37489003,  0.32556239]]],\n",
       "\n",
       "\n",
       "       [[[ 0.06281786,  0.03230633,  0.02153755],\n",
       "         [ 0.39008144,  0.21993463,  0.1598828 ],\n",
       "         [ 0.72852492,  0.43291244,  0.32857862],\n",
       "         ..., \n",
       "         [ 0.48353624,  0.263053  ,  0.1895586 ],\n",
       "         [ 0.40197888,  0.21645017,  0.15460727],\n",
       "         [ 0.39726821,  0.21391365,  0.15279546]],\n",
       "\n",
       "        [[ 0.12445125,  0.06565245,  0.04489994],\n",
       "         [ 0.34770018,  0.19411151,  0.13990374],\n",
       "         [ 0.55009335,  0.31647077,  0.23401575],\n",
       "         ..., \n",
       "         [ 0.54932034,  0.31517595,  0.23269053],\n",
       "         [ 0.48655921,  0.27657422,  0.20259129],\n",
       "         [ 0.35161167,  0.19607222,  0.14130382]],\n",
       "\n",
       "        [[ 0.38584751,  0.21738796,  0.15793166],\n",
       "         [ 0.07770052,  0.04120846,  0.02832891],\n",
       "         [ 0.04673006,  0.02546954,  0.01796582],\n",
       "         ..., \n",
       "         [ 0.60581338,  0.35118201,  0.26131213],\n",
       "         [ 0.5445621 ,  0.31276682,  0.2309567 ],\n",
       "         [ 0.34977645,  0.1953297 ,  0.14081909]],\n",
       "\n",
       "        ..., \n",
       "        [[ 0.70194227,  0.39710552,  0.27855787],\n",
       "         [ 0.71613306,  0.40550759,  0.28470883],\n",
       "         [ 0.67917776,  0.38215774,  0.26664996],\n",
       "         ..., \n",
       "         [ 0.29750371,  0.16434649,  0.11734982],\n",
       "         [ 0.16848329,  0.09009242,  0.06242505],\n",
       "         [ 0.1690651 ,  0.09050551,  0.0627786 ]],\n",
       "\n",
       "        [[ 0.60898995,  0.33859429,  0.23344043],\n",
       "         [ 0.70930606,  0.40121016,  0.28139511],\n",
       "         [ 0.81486279,  0.47258821,  0.33948144],\n",
       "         ..., \n",
       "         [ 0.34204167,  0.19069153,  0.13727383],\n",
       "         [ 0.2092308 ,  0.11313298,  0.0792161 ],\n",
       "         [ 0.25988466,  0.14246458,  0.10102219]],\n",
       "\n",
       "        [[ 0.69965583,  0.39619064,  0.2781764 ],\n",
       "         [ 0.60898995,  0.33859429,  0.23344043],\n",
       "         [ 0.60538405,  0.33632445,  0.23169018],\n",
       "         ..., \n",
       "         [ 0.24641651,  0.13458839,  0.09511965],\n",
       "         [ 0.17534573,  0.0942855 ,  0.065676  ],\n",
       "         [ 0.48288649,  0.27506194,  0.20171209]]],\n",
       "\n",
       "\n",
       "       [[[ 0.77055335,  0.59670901,  0.4745481 ],\n",
       "         [ 0.66439152,  0.50809091,  0.39825806],\n",
       "         [ 0.54032618,  0.40747115,  0.31411356],\n",
       "         ..., \n",
       "         [ 0.56254059,  0.43236414,  0.32868662],\n",
       "         [ 0.44493487,  0.33159399,  0.2488858 ],\n",
       "         [ 0.53850496,  0.40655345,  0.31026447]],\n",
       "\n",
       "        [[ 0.77969038,  0.60378462,  0.48017517],\n",
       "         [ 0.6905933 ,  0.52907592,  0.4155772 ],\n",
       "         [ 0.63033295,  0.4799048 ,  0.3741985 ],\n",
       "         ..., \n",
       "         [ 0.60874432,  0.46971941,  0.35904434],\n",
       "         [ 0.53987032,  0.40678427,  0.30966744],\n",
       "         [ 0.64050347,  0.48843873,  0.37747258]],\n",
       "\n",
       "        [[ 0.65193868,  0.49784076,  0.38955572],\n",
       "         [ 0.52816969,  0.39784059,  0.30625799],\n",
       "         [ 0.48516455,  0.36363676,  0.27823883],\n",
       "         ..., \n",
       "         [ 0.67426193,  0.52382141,  0.40422472],\n",
       "         [ 0.82445055,  0.6409651 ,  0.5070703 ],\n",
       "         [ 0.80381966,  0.62411588,  0.49298072]],\n",
       "\n",
       "        ..., \n",
       "        [[ 0.6396572 ,  0.49594715,  0.41382712],\n",
       "         [ 0.19770531,  0.14860293,  0.11702728],\n",
       "         [ 0.05939109,  0.04232566,  0.03229808],\n",
       "         ..., \n",
       "         [ 0.26506111,  0.19634522,  0.1565754 ],\n",
       "         [ 0.22675584,  0.17358959,  0.13904159],\n",
       "         [ 0.25569421,  0.20217569,  0.16203681]],\n",
       "\n",
       "        [[ 0.5648436 ,  0.43459162,  0.35995638],\n",
       "         [ 0.17340103,  0.12613165,  0.09905276],\n",
       "         [ 0.04018334,  0.02807096,  0.02108779],\n",
       "         ..., \n",
       "         [ 0.32754266,  0.24501716,  0.1930691 ],\n",
       "         [ 0.10372271,  0.07700958,  0.05880383],\n",
       "         [ 0.19186535,  0.15029414,  0.11904757]],\n",
       "\n",
       "        [[ 0.41600454,  0.31489232,  0.25133607],\n",
       "         [ 0.11683871,  0.08348013,  0.06251188],\n",
       "         [ 0.02519443,  0.01748485,  0.01247547],\n",
       "         ..., \n",
       "         [ 0.32408553,  0.24244078,  0.19104302],\n",
       "         [ 0.11117446,  0.08290543,  0.06354874],\n",
       "         [ 0.2567763 ,  0.20312156,  0.16096425]]],\n",
       "\n",
       "\n",
       "       ..., \n",
       "       [[[ 0.82536542,  0.59239942,  0.45927593],\n",
       "         [ 0.87140614,  0.62432981,  0.48763189],\n",
       "         [ 0.87565047,  0.61074114,  0.48057696],\n",
       "         ..., \n",
       "         [ 0.59830415,  0.35495576,  0.22868447],\n",
       "         [ 0.5577774 ,  0.32912222,  0.19015622],\n",
       "         [ 0.50798351,  0.28686127,  0.17331202]],\n",
       "\n",
       "        [[ 0.86461574,  0.62853163,  0.48458686],\n",
       "         [ 0.90588069,  0.66281587,  0.52801114],\n",
       "         [ 0.91455942,  0.65612173,  0.52913076],\n",
       "         ..., \n",
       "         [ 0.56821358,  0.34217459,  0.21930641],\n",
       "         [ 0.57902724,  0.35081971,  0.22033507],\n",
       "         [ 0.54424524,  0.32469976,  0.20574875]],\n",
       "\n",
       "        [[ 0.86908495,  0.62143373,  0.47145867],\n",
       "         [ 0.91432583,  0.65650213,  0.51732939],\n",
       "         [ 0.91867739,  0.67727441,  0.54502296],\n",
       "         ..., \n",
       "         [ 0.58321708,  0.35446456,  0.23026223],\n",
       "         [ 0.63937545,  0.4005895 ,  0.27059406],\n",
       "         [ 0.63027602,  0.39464149,  0.2667256 ]],\n",
       "\n",
       "        ..., \n",
       "        [[ 0.1930351 ,  0.13923843,  0.08227725],\n",
       "         [ 0.19575278,  0.14125028,  0.08354177],\n",
       "         [ 0.22868484,  0.16878968,  0.10537127],\n",
       "         ..., \n",
       "         [ 0.42164779,  0.26699051,  0.17099634],\n",
       "         [ 0.43952942,  0.28047088,  0.18174487],\n",
       "         [ 0.46802685,  0.30275097,  0.20016596]],\n",
       "\n",
       "        [[ 0.19358176,  0.13969763,  0.08264383],\n",
       "         [ 0.20321958,  0.14753321,  0.08857115],\n",
       "         [ 0.24831875,  0.18504187,  0.11804282],\n",
       "         ..., \n",
       "         [ 0.42373025,  0.26856577,  0.17225678],\n",
       "         [ 0.45659465,  0.2934067 ,  0.19212703],\n",
       "         [ 0.49878845,  0.32623586,  0.21939819]],\n",
       "\n",
       "        [[ 0.2061404 ,  0.15051521,  0.09161796],\n",
       "         [ 0.21652815,  0.15898193,  0.09805066],\n",
       "         [ 0.23593351,  0.1750605 ,  0.11060672],\n",
       "         ..., \n",
       "         [ 0.44991562,  0.28895396,  0.18904674],\n",
       "         [ 0.46782932,  0.30217785,  0.19962361],\n",
       "         [ 0.50798351,  0.32271892,  0.21514595]]],\n",
       "\n",
       "\n",
       "       [[[ 0.71512973,  0.53634733,  0.3163074 ],\n",
       "         [ 0.8129338 ,  0.62696999,  0.39809141],\n",
       "         [ 0.71678811,  0.53536057,  0.31206521],\n",
       "         ..., \n",
       "         [ 0.46700367,  0.32943994,  0.14954893],\n",
       "         [ 0.54656041,  0.391801  ,  0.18942329],\n",
       "         [ 0.42300677,  0.29512101,  0.12788577]],\n",
       "\n",
       "        [[ 0.78075206,  0.59586376,  0.36830896],\n",
       "         [ 0.84549528,  0.65852571,  0.42840934],\n",
       "         [ 0.69873691,  0.51914304,  0.29810438],\n",
       "         ..., \n",
       "         [ 0.55859423,  0.40095213,  0.19480474],\n",
       "         [ 0.6258617 ,  0.45589533,  0.23363166],\n",
       "         [ 0.54656041,  0.391801  ,  0.18942329]],\n",
       "\n",
       "        [[ 0.78283423,  0.59780067,  0.37006709],\n",
       "         [ 0.81416833,  0.62561351,  0.39354604],\n",
       "         [ 0.64503968,  0.4726347 ,  0.26044402],\n",
       "         ..., \n",
       "         [ 0.68266732,  0.50465739,  0.27187517],\n",
       "         [ 0.71271032,  0.53032267,  0.29181579],\n",
       "         [ 0.67274767,  0.49710351,  0.26741499]],\n",
       "\n",
       "        ..., \n",
       "        [[ 0.19212535,  0.17670135,  0.08929864],\n",
       "         [ 0.08952374,  0.08160066,  0.03670323],\n",
       "         [ 0.29168168,  0.26973432,  0.14536606],\n",
       "         ..., \n",
       "         [ 0.95143062,  0.76050276,  0.45173943],\n",
       "         [ 0.95895934,  0.74860984,  0.48298484],\n",
       "         [ 0.94391614,  0.7612766 ,  0.48164234]],\n",
       "\n",
       "        [[ 0.32920685,  0.30508399,  0.16838787],\n",
       "         [ 0.21546473,  0.19852078,  0.10250504],\n",
       "         [ 0.29903376,  0.27655739,  0.14919126],\n",
       "         ..., \n",
       "         [ 0.94928443,  0.76831919,  0.48815477],\n",
       "         [ 0.96536273,  0.78344685,  0.53899544],\n",
       "         [ 0.95749754,  0.80093259,  0.55646497]],\n",
       "\n",
       "        [[ 0.25875929,  0.23885474,  0.12606221],\n",
       "         [ 0.21057095,  0.19396555,  0.09986836],\n",
       "         [ 0.29552945,  0.27331647,  0.14744292],\n",
       "         ..., \n",
       "         [ 0.92209899,  0.74073064,  0.46361649],\n",
       "         [ 0.94202101,  0.76727927,  0.51554537],\n",
       "         [ 0.93390018,  0.77471262,  0.5306251 ]]],\n",
       "\n",
       "\n",
       "       [[[ 0.49006417,  0.31285346,  0.2100275 ],\n",
       "         [ 0.65785098,  0.43530205,  0.29857036],\n",
       "         [ 0.9222604 ,  0.63374597,  0.46115059],\n",
       "         ..., \n",
       "         [ 0.20681396,  0.14412333,  0.10690078],\n",
       "         [ 0.23866016,  0.16696306,  0.12439291],\n",
       "         [ 0.26028475,  0.18244259,  0.13622379]],\n",
       "\n",
       "        [[ 0.36061668,  0.23152229,  0.1523011 ],\n",
       "         [ 0.57043457,  0.37437743,  0.25373477],\n",
       "         [ 0.88124132,  0.60019583,  0.43208945],\n",
       "         ..., \n",
       "         [ 0.2092663 ,  0.14583232,  0.10816838],\n",
       "         [ 0.24196421,  0.1692884 ,  0.12613714],\n",
       "         [ 0.27669838,  0.19431949,  0.14540701]],\n",
       "\n",
       "        [[ 0.74564296,  0.49863288,  0.3466267 ],\n",
       "         [ 0.86052835,  0.58116668,  0.40925181],\n",
       "         [ 0.92587113,  0.63417625,  0.45962155],\n",
       "         ..., \n",
       "         [ 0.2284696 ,  0.15952393,  0.11858743],\n",
       "         [ 0.26655143,  0.18684539,  0.13951993],\n",
       "         [ 0.30616772,  0.21542898,  0.16155285]],\n",
       "\n",
       "        ..., \n",
       "        [[ 0.84603328,  0.56049073,  0.40140703],\n",
       "         [ 0.89509606,  0.59588993,  0.42910334],\n",
       "         [ 0.90830463,  0.60603899,  0.43753454],\n",
       "         ..., \n",
       "         [ 0.57112241,  0.40751004,  0.30682552],\n",
       "         [ 0.4971903 ,  0.35280401,  0.26395091],\n",
       "         [ 0.44331023,  0.31340024,  0.2334556 ]],\n",
       "\n",
       "        [[ 0.66540265,  0.44090089,  0.30843917],\n",
       "         [ 0.86011744,  0.58036733,  0.41531315],\n",
       "         [ 0.8948794 ,  0.60631961,  0.43606955],\n",
       "         ..., \n",
       "         [ 0.58361286,  0.4169805 ,  0.31443748],\n",
       "         [ 0.4500224 ,  0.31817171,  0.2370328 ],\n",
       "         [ 0.35568824,  0.2496344 ,  0.1843705 ]],\n",
       "\n",
       "        [[ 0.70235062,  0.4702433 ,  0.33158183],\n",
       "         [ 0.83539695,  0.56604505,  0.40513352],\n",
       "         [ 0.83994132,  0.5693326 ,  0.40767026],\n",
       "         ..., \n",
       "         [ 0.53400987,  0.38026023,  0.28564507],\n",
       "         [ 0.42435786,  0.29949611,  0.22265811],\n",
       "         [ 0.35152   ,  0.246709  ,  0.18220991]]]], dtype=float32)"
      ]
     },
     "execution_count": 40,
     "metadata": {},
     "output_type": "execute_result"
    }
   ],
   "source": [
    "Xtest"
   ]
  },
  {
   "cell_type": "code",
   "execution_count": 21,
   "metadata": {},
   "outputs": [
    {
     "data": {
      "text/plain": [
       "/home/ubuntu/pynb/DG_datachallenge/building_set/buildings/70302.tif        9\n",
       "/home/ubuntu/pynb/DG_datachallenge/building_set/buildings/647646.tif       9\n",
       "/home/ubuntu/pynb/DG_datachallenge/building_set/buildings/79048.tif        8\n",
       "/home/ubuntu/pynb/DG_datachallenge/building_set/buildings/678214.tif       8\n",
       "/home/ubuntu/pynb/DG_datachallenge/building_set/buildings/704938.tif       8\n",
       "/home/ubuntu/pynb/DG_datachallenge/building_set/buildings/710264.tif       8\n",
       "/home/ubuntu/pynb/DG_datachallenge/building_set/buildings/204578.tif       7\n",
       "/home/ubuntu/pynb/DG_datachallenge/building_set/buildings/112846.tif       7\n",
       "/home/ubuntu/pynb/DG_datachallenge/building_set/buildings/230397.tif       7\n",
       "/home/ubuntu/pynb/DG_datachallenge/building_set/buildings/679040.tif       7\n",
       "/home/ubuntu/pynb/DG_datachallenge/building_set/buildings/614487.tif       7\n",
       "/home/ubuntu/pynb/DG_datachallenge/building_set/buildings/703706.tif       7\n",
       "/home/ubuntu/pynb/DG_datachallenge/building_set/buildings/99210.tif        7\n",
       "/home/ubuntu/pynb/DG_datachallenge/building_set/buildings/140898.tif       7\n",
       "/home/ubuntu/pynb/DG_datachallenge/building_set/buildings/110554.tif       7\n",
       "/home/ubuntu/pynb/DG_datachallenge/building_set/buildings/127677.tif       7\n",
       "/home/ubuntu/pynb/DG_datachallenge/building_set/buildings/356102.tif       7\n",
       "/home/ubuntu/pynb/DG_datachallenge/building_set/buildings/477688.tif       7\n",
       "/home/ubuntu/pynb/DG_datachallenge/building_set/buildings/287284.tif       7\n",
       "/home/ubuntu/pynb/DG_datachallenge/building_set/buildings/647207.tif       7\n",
       "/home/ubuntu/pynb/DG_datachallenge/building_set/buildings/355355.tif       7\n",
       "/home/ubuntu/pynb/DG_datachallenge/building_set/buildings/465104.tif       7\n",
       "/home/ubuntu/pynb/DG_datachallenge/building_set/buildings/301335.tif       7\n",
       "/home/ubuntu/pynb/DG_datachallenge/building_set/buildings/725152.tif       6\n",
       "/home/ubuntu/pynb/DG_datachallenge/building_set/buildings/785289.tif       6\n",
       "/home/ubuntu/pynb/DG_datachallenge/building_set/buildings/327390.tif       6\n",
       "/home/ubuntu/pynb/DG_datachallenge/building_set/buildings/402204.tif       6\n",
       "/home/ubuntu/pynb/DG_datachallenge/building_set/buildings/591541.tif       6\n",
       "/home/ubuntu/pynb/DG_datachallenge/building_set/buildings/279146.tif       6\n",
       "/home/ubuntu/pynb/DG_datachallenge/building_set/buildings/402491.tif       6\n",
       "                                                                          ..\n",
       "/home/ubuntu/pynb/DG_datachallenge/building_set/no_buildings/756656.tif    1\n",
       "/home/ubuntu/pynb/DG_datachallenge/building_set/no_buildings/98586.tif     1\n",
       "/home/ubuntu/pynb/DG_datachallenge/building_set/no_buildings/785996.tif    1\n",
       "/home/ubuntu/pynb/DG_datachallenge/building_set/no_buildings/601550.tif    1\n",
       "/home/ubuntu/pynb/DG_datachallenge/building_set/no_buildings/369512.tif    1\n",
       "/home/ubuntu/pynb/DG_datachallenge/building_set/no_buildings/124125.tif    1\n",
       "/home/ubuntu/pynb/DG_datachallenge/building_set/no_buildings/264700.tif    1\n",
       "/home/ubuntu/pynb/DG_datachallenge/building_set/no_buildings/439580.tif    1\n",
       "/home/ubuntu/pynb/DG_datachallenge/building_set/no_buildings/82416.tif     1\n",
       "/home/ubuntu/pynb/DG_datachallenge/building_set/no_buildings/382536.tif    1\n",
       "/home/ubuntu/pynb/DG_datachallenge/building_set/no_buildings/419823.tif    1\n",
       "/home/ubuntu/pynb/DG_datachallenge/building_set/no_buildings/570299.tif    1\n",
       "/home/ubuntu/pynb/DG_datachallenge/building_set/no_buildings/800639.tif    1\n",
       "/home/ubuntu/pynb/DG_datachallenge/building_set/no_buildings/176573.tif    1\n",
       "/home/ubuntu/pynb/DG_datachallenge/building_set/no_buildings/828915.tif    1\n",
       "/home/ubuntu/pynb/DG_datachallenge/building_set/no_buildings/537670.tif    1\n",
       "/home/ubuntu/pynb/DG_datachallenge/building_set/no_buildings/174432.tif    1\n",
       "/home/ubuntu/pynb/DG_datachallenge/building_set/no_buildings/713112.tif    1\n",
       "/home/ubuntu/pynb/DG_datachallenge/building_set/no_buildings/650433.tif    1\n",
       "/home/ubuntu/pynb/DG_datachallenge/building_set/no_buildings/197932.tif    1\n",
       "/home/ubuntu/pynb/DG_datachallenge/building_set/no_buildings/689239.tif    1\n",
       "/home/ubuntu/pynb/DG_datachallenge/building_set/no_buildings/716155.tif    1\n",
       "/home/ubuntu/pynb/DG_datachallenge/building_set/no_buildings/234101.tif    1\n",
       "/home/ubuntu/pynb/DG_datachallenge/building_set/no_buildings/294133.tif    1\n",
       "/home/ubuntu/pynb/DG_datachallenge/building_set/no_buildings/49183.tif     1\n",
       "/home/ubuntu/pynb/DG_datachallenge/building_set/no_buildings/457122.tif    1\n",
       "/home/ubuntu/pynb/DG_datachallenge/building_set/buildings/766538.tif       1\n",
       "/home/ubuntu/pynb/DG_datachallenge/building_set/no_buildings/770484.tif    1\n",
       "/home/ubuntu/pynb/DG_datachallenge/building_set/no_buildings/428977.tif    1\n",
       "/home/ubuntu/pynb/DG_datachallenge/building_set/no_buildings/271940.tif    1\n",
       "Name: filename, dtype: int64"
      ]
     },
     "execution_count": 21,
     "metadata": {},
     "output_type": "execute_result"
    }
   ],
   "source": [
    "FileImgPaths.filename.value_counts()\n",
    "# FileImgPaths.filename.values[:10]"
   ]
  },
  {
   "cell_type": "markdown",
   "metadata": {},
   "source": [
    "#### SAVE FILES"
   ]
  },
  {
   "cell_type": "code",
   "execution_count": 20,
   "metadata": {
    "collapsed": true
   },
   "outputs": [],
   "source": [
    "### SAVE FILES\n",
    "\n",
    "import pickle\n",
    "import numpy as np\n",
    "\n",
    "# np.save(path+'/building_set/TrainX_v0',X)\n",
    "# np.save(path+'/building_set/TrainY_v0',Y)\n",
    "\n",
    "# np.save(path+'/building_set/TestX_v0',X)\n",
    "# np.save(path+'/building_set/TestY_v0',Y)\n",
    "\n",
    "\n",
    "\n",
    "## LARGE files....\n",
    "# np.save(path+'/building_set/X_all',X)\n",
    "# np.save(path+'/building_set/Y_all',Y)\n",
    "\n",
    "np.save(path+'/building_set/X_ubdnb6000_all',X)\n",
    "np.save(path+'/building_set/Y_ubdnb6000_all',Y)\n",
    "FileImgPaths.to_csv(path+'/building_set/XY_ubdnb6000_all.csv')\n",
    "\n"
   ]
  },
  {
   "cell_type": "markdown",
   "metadata": {},
   "source": [
    "#### LOAD FILES"
   ]
  },
  {
   "cell_type": "code",
   "execution_count": null,
   "metadata": {
    "collapsed": true
   },
   "outputs": [],
   "source": [
    "# LOAD saved vars\n",
    "\n",
    "\n",
    "# f = np.load('filepath.npy')\n",
    "# f.shape\n"
   ]
  },
  {
   "cell_type": "code",
   "execution_count": 95,
   "metadata": {},
   "outputs": [
    {
     "data": {
      "text/plain": [
       "'channels_last'"
      ]
     },
     "execution_count": 95,
     "metadata": {},
     "output_type": "execute_result"
    }
   ],
   "source": [
    "import keras\n",
    "keras.backend.image_data_format()"
   ]
  },
  {
   "cell_type": "code",
   "execution_count": null,
   "metadata": {
    "collapsed": true
   },
   "outputs": [],
   "source": []
  },
  {
   "cell_type": "code",
   "execution_count": null,
   "metadata": {
    "collapsed": true
   },
   "outputs": [],
   "source": []
  },
  {
   "cell_type": "code",
   "execution_count": null,
   "metadata": {
    "collapsed": true
   },
   "outputs": [],
   "source": []
  }
 ],
 "metadata": {
  "hide_input": false,
  "kernelspec": {
   "display_name": "Python 3",
   "language": "python",
   "name": "python3"
  },
  "language_info": {
   "codemirror_mode": {
    "name": "ipython",
    "version": 3
   },
   "file_extension": ".py",
   "mimetype": "text/x-python",
   "name": "python",
   "nbconvert_exporter": "python",
   "pygments_lexer": "ipython3",
   "version": "3.5.3"
  }
 },
 "nbformat": 4,
 "nbformat_minor": 2
}
