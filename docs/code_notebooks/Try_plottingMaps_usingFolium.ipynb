{
 "cells": [
  {
   "cell_type": "markdown",
   "metadata": {},
   "source": [
    "#### Create more interactive maps showing classification outcomes using Folium\n",
    "- overlay open street maps using cartoDB baselayers  \n",
    "- show where correct/wrong-ly classified images are located  \n",
    "- save as html file \n",
    "\n",
    "\n",
    "- Ref: http://localhost:8888/notebooks/load_HoldoutPredictions_plotImageClassPredictions_v0.ipynb  \n",
    "- previous static version: http://localhost:8888/notebooks/explore_imagesNgeojson_v1.ipynb"
   ]
  },
  {
   "cell_type": "markdown",
   "metadata": {
    "collapsed": true
   },
   "source": [
    "#### General REQs"
   ]
  },
  {
   "cell_type": "code",
   "execution_count": 108,
   "metadata": {
    "collapsed": true
   },
   "outputs": [],
   "source": [
    "%matplotlib inline\n",
    "import matplotlib.pyplot as plt\n",
    "import matplotlib.image as mpimg\n",
    "\n",
    "import numpy as np\n",
    "import pandas as pd\n",
    "\n",
    "import geopandas as gpd\n",
    "import gdal"
   ]
  },
  {
   "cell_type": "markdown",
   "metadata": {
    "collapsed": true
   },
   "source": [
    "#### Load geojson info | data"
   ]
  },
  {
   "cell_type": "code",
   "execution_count": 54,
   "metadata": {
    "collapsed": true
   },
   "outputs": [],
   "source": [
    "df_joined = pd.read_csv('./building_set/combined_geojsonInfo.csv', index_col=0)"
   ]
  },
  {
   "cell_type": "code",
   "execution_count": 55,
   "metadata": {
    "collapsed": true
   },
   "outputs": [],
   "source": [
    "Gdf = gpd.GeoDataFrame(df_joined) #not sure if this converts it properly..."
   ]
  },
  {
   "cell_type": "code",
   "execution_count": 62,
   "metadata": {},
   "outputs": [
    {
     "data": {
      "text/html": [
       "<div>\n",
       "<table border=\"1\" class=\"dataframe\">\n",
       "  <thead>\n",
       "    <tr style=\"text-align: right;\">\n",
       "      <th></th>\n",
       "      <th>index</th>\n",
       "      <th>class_name</th>\n",
       "      <th>feature_id</th>\n",
       "      <th>geometry</th>\n",
       "      <th>x</th>\n",
       "      <th>y</th>\n",
       "      <th>xy</th>\n",
       "    </tr>\n",
       "  </thead>\n",
       "  <tbody>\n",
       "    <tr>\n",
       "      <th>0</th>\n",
       "      <td>0</td>\n",
       "      <td>Buildings</td>\n",
       "      <td>298021</td>\n",
       "      <td>POLYGON ((14.20433772170354 12.36790308324247,...</td>\n",
       "      <td>14.204910</td>\n",
       "      <td>12.368465</td>\n",
       "      <td>[14.204909841113661, 12.368464982853263]</td>\n",
       "    </tr>\n",
       "    <tr>\n",
       "      <th>1</th>\n",
       "      <td>1</td>\n",
       "      <td>Buildings</td>\n",
       "      <td>624999</td>\n",
       "      <td>POLYGON ((13.57843908703417 11.33400779938784,...</td>\n",
       "      <td>13.579011</td>\n",
       "      <td>11.334570</td>\n",
       "      <td>[13.57901120644429, 11.334569698998633]</td>\n",
       "    </tr>\n",
       "    <tr>\n",
       "      <th>2</th>\n",
       "      <td>2</td>\n",
       "      <td>Buildings</td>\n",
       "      <td>297460</td>\n",
       "      <td>POLYGON ((13.95718213653246 11.35873138226263,...</td>\n",
       "      <td>13.957754</td>\n",
       "      <td>11.359293</td>\n",
       "      <td>[13.957754255942577, 11.359293281873416]</td>\n",
       "    </tr>\n",
       "    <tr>\n",
       "      <th>3</th>\n",
       "      <td>3</td>\n",
       "      <td>Buildings</td>\n",
       "      <td>57828</td>\n",
       "      <td>POLYGON ((13.69629568551853 11.5149394740624, ...</td>\n",
       "      <td>13.696868</td>\n",
       "      <td>11.515501</td>\n",
       "      <td>[13.696867804928653, 11.515501373673192]</td>\n",
       "    </tr>\n",
       "    <tr>\n",
       "      <th>4</th>\n",
       "      <td>4</td>\n",
       "      <td>Buildings</td>\n",
       "      <td>162112</td>\n",
       "      <td>POLYGON ((14.28100172265939 11.33288400016626,...</td>\n",
       "      <td>14.281574</td>\n",
       "      <td>11.333446</td>\n",
       "      <td>[14.281573842069509, 11.33344589977705]</td>\n",
       "    </tr>\n",
       "  </tbody>\n",
       "</table>\n",
       "</div>"
      ],
      "text/plain": [
       "   index class_name  feature_id  \\\n",
       "0      0  Buildings      298021   \n",
       "1      1  Buildings      624999   \n",
       "2      2  Buildings      297460   \n",
       "3      3  Buildings       57828   \n",
       "4      4  Buildings      162112   \n",
       "\n",
       "                                            geometry          x          y  \\\n",
       "0  POLYGON ((14.20433772170354 12.36790308324247,...  14.204910  12.368465   \n",
       "1  POLYGON ((13.57843908703417 11.33400779938784,...  13.579011  11.334570   \n",
       "2  POLYGON ((13.95718213653246 11.35873138226263,...  13.957754  11.359293   \n",
       "3  POLYGON ((13.69629568551853 11.5149394740624, ...  13.696868  11.515501   \n",
       "4  POLYGON ((14.28100172265939 11.33288400016626,...  14.281574  11.333446   \n",
       "\n",
       "                                         xy  \n",
       "0  [14.204909841113661, 12.368464982853263]  \n",
       "1   [13.57901120644429, 11.334569698998633]  \n",
       "2  [13.957754255942577, 11.359293281873416]  \n",
       "3  [13.696867804928653, 11.515501373673192]  \n",
       "4   [14.281573842069509, 11.33344589977705]  "
      ]
     },
     "execution_count": 62,
     "metadata": {},
     "output_type": "execute_result"
    }
   ],
   "source": [
    "Gdf.head()"
   ]
  },
  {
   "cell_type": "code",
   "execution_count": 63,
   "metadata": {
    "collapsed": true
   },
   "outputs": [],
   "source": [
    "Gdf_B = Gdf[Gdf.class_name=='Buildings']\n",
    "Gdf_NB = Gdf[Gdf.class_name=='No Buildings']"
   ]
  },
  {
   "cell_type": "code",
   "execution_count": 65,
   "metadata": {},
   "outputs": [
    {
     "data": {
      "text/plain": [
       "((2000, 7), (20000, 7))"
      ]
     },
     "execution_count": 65,
     "metadata": {},
     "output_type": "execute_result"
    }
   ],
   "source": [
    "Gdf_B.shape, Gdf_NB.shape"
   ]
  },
  {
   "cell_type": "code",
   "execution_count": null,
   "metadata": {
    "collapsed": true
   },
   "outputs": [],
   "source": []
  },
  {
   "cell_type": "code",
   "execution_count": null,
   "metadata": {
    "collapsed": true
   },
   "outputs": [],
   "source": []
  },
  {
   "cell_type": "markdown",
   "metadata": {},
   "source": [
    "### Refs for Folium & Carto Mapping\n",
    "- https://folium.readthedocs.io/en/latest/index.html || https://github.com/python-visualization/folium\n",
    "- https://gist.github.com/wrobstory/5558986  \n",
    "- https://python-visualization.github.io/folium/module/features.html  \n",
    "- https://ocefpaf.github.io/python4oceanographers/blog/2015/12/14/geopandas_folium/\n",
    "\n",
    "\n",
    "- https://carto.com/location-data-services/basemaps/\n",
    "- https://carto.com/docs/carto-editor/maps#including-an-external-basemap\n"
   ]
  },
  {
   "cell_type": "code",
   "execution_count": null,
   "metadata": {
    "collapsed": true
   },
   "outputs": [],
   "source": [
    "# import folium\n",
    "# from matplotlib.colors import Normalize, rgb2hex \n",
    "# import matplotlib.cm as cm\n"
   ]
  },
  {
   "cell_type": "markdown",
   "metadata": {},
   "source": [
    "#### Try Basic mapping... of approx. mean lat/long coords "
   ]
  },
  {
   "cell_type": "code",
   "execution_count": 129,
   "metadata": {
    "collapsed": true
   },
   "outputs": [],
   "source": [
    "import folium\n",
    "from matplotlib.colors import Normalize, rgb2hex \n",
    "import matplotlib.cm as cm\n",
    "\n",
    "\n",
    "# norm = Normalize(Var.min(), Var.max())\n",
    "\n",
    "# Get dark tileset from CartoBD (https://cartodb.com/basemaps)\n",
    "tileset = r'http://{s}.basemaps.cartocdn.com/light_all/{z}/{x}/{y}@2x.png'\n",
    "\n",
    "test_map = folium.Map(location = [14, 12], width = 980, height = 800,\n",
    "                               tiles = tileset,\n",
    "                               attr = '&copy; <a href=\"http://www.openstreetmap.org/copyright\">OpenStreetMap</a> contributors, &copy; <a href=\"http://cartodb.com/attributions\">CartoDB</a>',\n",
    "                               zoom_start = 3)\n",
    "\n",
    "test_map.add_child(folium.CircleMarker(location = [12,14],\n",
    "                                        popup = 'test',\n",
    "                                        radius = 5,\n",
    "                                        color = 'black',#'#f44242',\n",
    "                                        fill_color = 'black',#'#f44242',# line_color = '#f44242'\n",
    "                                      )\n",
    "                  )\n",
    "\n",
    "test_map.save(outfile = './Folium_maps/test_map.html')\n",
    "\n",
    "del test_map"
   ]
  },
  {
   "cell_type": "code",
   "execution_count": 130,
   "metadata": {},
   "outputs": [
    {
     "data": {
      "text/html": [
       "\n",
       "        <iframe\n",
       "            width=\"980\"\n",
       "            height=\"800\"\n",
       "            src=\"./Folium_maps/test_map.html\"\n",
       "            frameborder=\"0\"\n",
       "            allowfullscreen\n",
       "        ></iframe>\n",
       "        "
      ],
      "text/plain": [
       "<IPython.lib.display.IFrame at 0x11e0ad160>"
      ]
     },
     "execution_count": 130,
     "metadata": {},
     "output_type": "execute_result"
    }
   ],
   "source": [
    "from IPython.display import IFrame\n",
    "IFrame('./Folium_maps/test_map.html', width = 980, height = 800)"
   ]
  },
  {
   "cell_type": "markdown",
   "metadata": {},
   "source": [
    "#### Plot all B | NB image centroid loc "
   ]
  },
  {
   "cell_type": "code",
   "execution_count": 123,
   "metadata": {
    "collapsed": true
   },
   "outputs": [],
   "source": [
    "import folium\n",
    "from matplotlib.colors import Normalize, rgb2hex \n",
    "import matplotlib.cm as cm\n",
    "\n",
    "\n",
    "# norm = Normalize(Var.min(), Var.max())\n",
    "# color = rgb2hex(cm.nipy_spectral(norm(row['Var'])))\n",
    "\n",
    "# Get dark tileset from CartoBD (https://cartodb.com/basemaps)\n",
    "tileset = r'http://{s}.basemaps.cartocdn.com/light_all/{z}/{x}/{y}@2x.png'\n",
    "\n",
    "test_map = folium.Map(location = [14, 12], width = 980, height = 800,\n",
    "                               tiles = tileset,\n",
    "                               attr = '&copy; <a href=\"http://www.openstreetmap.org/copyright\">OpenStreetMap</a> contributors, &copy; <a href=\"http://cartodb.com/attributions\">CartoDB</a>',\n",
    "                               zoom_start = 3)\n",
    "\n",
    "\n",
    "for index, row in Gdf_NB.iterrows():\n",
    "    test_map.add_child(folium.CircleMarker(location = [row['y'],row['x']],\n",
    "                                            popup = 'No Building',\n",
    "                                            radius = 5,\n",
    "                                            color = '#606060', #'#bababa', #'#158c3e',#\n",
    "                                            fill_color = '#606060', #'#bababa', #'black', #'#158c3e',# line_color = '#f44242'\n",
    "                                          )\n",
    "                      )\n",
    "    \n",
    "for index, row in Gdf_B.iterrows():\n",
    "    test_map.add_child(folium.CircleMarker(location = [row['y'],row['x']],\n",
    "                                            popup = 'Building',\n",
    "                                            radius = 5,\n",
    "                                            color = '#f4a742', #'#f44242',\n",
    "                                            fill_color = '#f4a742', #'#f44242',# line_color = '#f44242'\n",
    "                                          )\n",
    "                      )\n",
    "\n",
    "\n",
    "# test_map.save(outfile = './Folium_maps/map_B_NB_v1.html') ##takes forever to build... don't overwrite...\n",
    "test_map.save(outfile = './Folium_maps/test_map1.html')\n",
    "\n",
    "del test_map"
   ]
  },
  {
   "cell_type": "code",
   "execution_count": 131,
   "metadata": {},
   "outputs": [
    {
     "data": {
      "text/html": [
       "\n",
       "        <iframe\n",
       "            width=\"980\"\n",
       "            height=\"800\"\n",
       "            src=\"./Folium_maps/map_B_NB_v4.html\"\n",
       "            frameborder=\"0\"\n",
       "            allowfullscreen\n",
       "        ></iframe>\n",
       "        "
      ],
      "text/plain": [
       "<IPython.lib.display.IFrame at 0x11e0ad278>"
      ]
     },
     "execution_count": 131,
     "metadata": {},
     "output_type": "execute_result"
    }
   ],
   "source": [
    "from IPython.display import IFrame\n",
    "IFrame('./Folium_maps/map_B_NB_v4.html', width = 980, height = 800)\n",
    "# IFrame('./Folium_maps/test_map1.html', width = 980, height = 800)"
   ]
  },
  {
   "cell_type": "code",
   "execution_count": null,
   "metadata": {
    "collapsed": true
   },
   "outputs": [],
   "source": []
  },
  {
   "cell_type": "markdown",
   "metadata": {},
   "source": [
    "#### Plot Holdout Classification Outcomes for B | NB images"
   ]
  },
  {
   "cell_type": "code",
   "execution_count": 98,
   "metadata": {
    "collapsed": true
   },
   "outputs": [],
   "source": [
    "df_HOpred = pd.read_csv('./building_set/HoldoutPredict_CombinedGeoInfo.csv')"
   ]
  },
  {
   "cell_type": "code",
   "execution_count": 101,
   "metadata": {
    "collapsed": true
   },
   "outputs": [],
   "source": [
    "Gdf_HOpred = gpd.GeoDataFrame(df_HOpred)"
   ]
  },
  {
   "cell_type": "code",
   "execution_count": 103,
   "metadata": {},
   "outputs": [
    {
     "data": {
      "text/html": [
       "<div>\n",
       "<table border=\"1\" class=\"dataframe\">\n",
       "  <thead>\n",
       "    <tr style=\"text-align: right;\">\n",
       "      <th></th>\n",
       "      <th>Unnamed: 0</th>\n",
       "      <th>filepath</th>\n",
       "      <th>feature_id</th>\n",
       "      <th>class_name</th>\n",
       "      <th>Blabel</th>\n",
       "      <th>augment</th>\n",
       "      <th>YHoldPredProb_nb</th>\n",
       "      <th>YHoldPredProb_b</th>\n",
       "      <th>YHold_test</th>\n",
       "      <th>YHold_predict</th>\n",
       "      <th>predict_diff</th>\n",
       "      <th>geometry</th>\n",
       "      <th>x</th>\n",
       "      <th>y</th>\n",
       "      <th>xy</th>\n",
       "    </tr>\n",
       "  </thead>\n",
       "  <tbody>\n",
       "    <tr>\n",
       "      <th>0</th>\n",
       "      <td>0</td>\n",
       "      <td>building_set/buildings/760690.tif</td>\n",
       "      <td>760690</td>\n",
       "      <td>Buildings</td>\n",
       "      <td>1</td>\n",
       "      <td>0</td>\n",
       "      <td>0.014134</td>\n",
       "      <td>0.985866</td>\n",
       "      <td>1</td>\n",
       "      <td>1</td>\n",
       "      <td>0</td>\n",
       "      <td>POLYGON ((13.85420064271117 11.37558837058634,...</td>\n",
       "      <td>13.854773</td>\n",
       "      <td>11.376150</td>\n",
       "      <td>[13.854772762121291, 11.376150270197135]</td>\n",
       "    </tr>\n",
       "    <tr>\n",
       "      <th>1</th>\n",
       "      <td>1</td>\n",
       "      <td>building_set/buildings/841079.tif</td>\n",
       "      <td>841079</td>\n",
       "      <td>Buildings</td>\n",
       "      <td>1</td>\n",
       "      <td>0</td>\n",
       "      <td>0.031087</td>\n",
       "      <td>0.968913</td>\n",
       "      <td>1</td>\n",
       "      <td>1</td>\n",
       "      <td>0</td>\n",
       "      <td>POLYGON ((14.61168674170774 12.28137054318073,...</td>\n",
       "      <td>14.612259</td>\n",
       "      <td>12.281932</td>\n",
       "      <td>[14.612258861117859, 12.28193244279152]</td>\n",
       "    </tr>\n",
       "    <tr>\n",
       "      <th>2</th>\n",
       "      <td>2</td>\n",
       "      <td>building_set/buildings/615983.tif</td>\n",
       "      <td>615983</td>\n",
       "      <td>Buildings</td>\n",
       "      <td>1</td>\n",
       "      <td>0</td>\n",
       "      <td>0.005324</td>\n",
       "      <td>0.994676</td>\n",
       "      <td>1</td>\n",
       "      <td>1</td>\n",
       "      <td>0</td>\n",
       "      <td>POLYGON ((14.19518381114165 12.36790308324247,...</td>\n",
       "      <td>14.195756</td>\n",
       "      <td>12.368465</td>\n",
       "      <td>[14.19575593055177, 12.368464982853263]</td>\n",
       "    </tr>\n",
       "    <tr>\n",
       "      <th>3</th>\n",
       "      <td>3</td>\n",
       "      <td>building_set/buildings/228006.tif</td>\n",
       "      <td>228006</td>\n",
       "      <td>Buildings</td>\n",
       "      <td>1</td>\n",
       "      <td>0</td>\n",
       "      <td>0.758569</td>\n",
       "      <td>0.241431</td>\n",
       "      <td>1</td>\n",
       "      <td>0</td>\n",
       "      <td>1</td>\n",
       "      <td>POLYGON ((14.18831837822023 12.33531290581662,...</td>\n",
       "      <td>14.188890</td>\n",
       "      <td>12.335875</td>\n",
       "      <td>[14.188890497630352, 12.335874805427412]</td>\n",
       "    </tr>\n",
       "    <tr>\n",
       "      <th>4</th>\n",
       "      <td>4</td>\n",
       "      <td>building_set/buildings/782943.tif</td>\n",
       "      <td>782943</td>\n",
       "      <td>Buildings</td>\n",
       "      <td>1</td>\n",
       "      <td>0</td>\n",
       "      <td>0.071391</td>\n",
       "      <td>0.928609</td>\n",
       "      <td>1</td>\n",
       "      <td>1</td>\n",
       "      <td>0</td>\n",
       "      <td>POLYGON ((14.10364470552273 11.64642398298739,...</td>\n",
       "      <td>14.104217</td>\n",
       "      <td>11.646986</td>\n",
       "      <td>[14.10421682493285, 11.646985882598184]</td>\n",
       "    </tr>\n",
       "  </tbody>\n",
       "</table>\n",
       "</div>"
      ],
      "text/plain": [
       "   Unnamed: 0                           filepath  feature_id class_name  \\\n",
       "0           0  building_set/buildings/760690.tif      760690  Buildings   \n",
       "1           1  building_set/buildings/841079.tif      841079  Buildings   \n",
       "2           2  building_set/buildings/615983.tif      615983  Buildings   \n",
       "3           3  building_set/buildings/228006.tif      228006  Buildings   \n",
       "4           4  building_set/buildings/782943.tif      782943  Buildings   \n",
       "\n",
       "   Blabel  augment  YHoldPredProb_nb  YHoldPredProb_b  YHold_test  \\\n",
       "0       1        0          0.014134         0.985866           1   \n",
       "1       1        0          0.031087         0.968913           1   \n",
       "2       1        0          0.005324         0.994676           1   \n",
       "3       1        0          0.758569         0.241431           1   \n",
       "4       1        0          0.071391         0.928609           1   \n",
       "\n",
       "   YHold_predict  predict_diff  \\\n",
       "0              1             0   \n",
       "1              1             0   \n",
       "2              1             0   \n",
       "3              0             1   \n",
       "4              1             0   \n",
       "\n",
       "                                            geometry          x          y  \\\n",
       "0  POLYGON ((13.85420064271117 11.37558837058634,...  13.854773  11.376150   \n",
       "1  POLYGON ((14.61168674170774 12.28137054318073,...  14.612259  12.281932   \n",
       "2  POLYGON ((14.19518381114165 12.36790308324247,...  14.195756  12.368465   \n",
       "3  POLYGON ((14.18831837822023 12.33531290581662,...  14.188890  12.335875   \n",
       "4  POLYGON ((14.10364470552273 11.64642398298739,...  14.104217  11.646986   \n",
       "\n",
       "                                         xy  \n",
       "0  [13.854772762121291, 11.376150270197135]  \n",
       "1   [14.612258861117859, 12.28193244279152]  \n",
       "2   [14.19575593055177, 12.368464982853263]  \n",
       "3  [14.188890497630352, 12.335874805427412]  \n",
       "4   [14.10421682493285, 11.646985882598184]  "
      ]
     },
     "execution_count": 103,
     "metadata": {},
     "output_type": "execute_result"
    }
   ],
   "source": [
    "df_HOpred.head()"
   ]
  },
  {
   "cell_type": "code",
   "execution_count": null,
   "metadata": {
    "collapsed": true
   },
   "outputs": [],
   "source": [
    "B_predDF = df_HOpred[df_HOpred.Blabel==1]\n",
    "NB_predDF = df_HOpred[df_HOpred.Blabel==0]\n",
    "\n",
    "B_pNB_DF = df_HOpred[df_HOpred.predict_diff==1]\n",
    "NB_pB_DF = df_HOpred[df_HOpred.predict_diff==-1]\n"
   ]
  },
  {
   "cell_type": "code",
   "execution_count": null,
   "metadata": {
    "collapsed": true
   },
   "outputs": [],
   "source": [
    "import folium\n",
    "from matplotlib.colors import Normalize, rgb2hex \n",
    "import matplotlib.cm as cm\n",
    "\n",
    "\n",
    "# norm = Normalize(Var.min(), Var.max())\n",
    "# color = rgb2hex(cm.nipy_spectral(norm(row['Var'])))\n",
    "\n",
    "# Get dark tileset from CartoBD (https://cartodb.com/basemaps)\n",
    "tileset = r'http://{s}.basemaps.cartocdn.com/light_all/{z}/{x}/{y}@2x.png'\n",
    "\n",
    "test_map = folium.Map(location = [14, 12], width = 1600, height = 1000,\n",
    "                               tiles = tileset,\n",
    "                               attr = '&copy; <a href=\"http://www.openstreetmap.org/copyright\">OpenStreetMap</a> contributors, &copy; <a href=\"http://cartodb.com/attributions\">CartoDB</a>',\n",
    "                               zoom_start = 3)\n",
    "\n",
    "\n",
    "for index, row in NB_predDF.iterrows():\n",
    "    test_map.add_child(folium.CircleMarker(location = [row['y'],row['x']],\n",
    "                                            popup = 'No Building',\n",
    "                                            radius = 5,\n",
    "                                            color = '#606060',#'#158c3e',#\n",
    "                                            fill_color = '#606060', #'black', #'#158c3e',# line_color = '#f44242'\n",
    "                                          )\n",
    "                      )\n",
    "    \n",
    "for index, row in B_predDF.iterrows():\n",
    "    test_map.add_child(folium.CircleMarker(location = [row['y'],row['x']],\n",
    "                                            popup = 'Building',\n",
    "                                            radius = 5,\n",
    "                                            color = '#f4a742', #'#f44242',\n",
    "                                            fill_color = '#f4a742', #'#f44242',# line_color = '#f44242'\n",
    "                                          )\n",
    "                      )\n",
    "\n",
    "\n",
    "for index, row in NB_pB_DF.iterrows():\n",
    "    test_map.add_child(folium.CircleMarker(location = [row['y'],row['x']],\n",
    "                                            popup = 'No Building | predicted Building',\n",
    "                                            radius = 5,\n",
    "                                            color = 'black' ,#'#bababa', #'#\n",
    "                                            fill_color = 'black',#'#bababa', #'black', #'#158c3e',# line_color = '#f44242'\n",
    "                                          )\n",
    "                      )\n",
    "    \n",
    "for index, row in B_pNB_DF.iterrows():\n",
    "    test_map.add_child(folium.CircleMarker(location = [row['y'],row['x']],\n",
    "                                            popup = 'Building | Predicted No Building',\n",
    "                                            radius = 5,\n",
    "                                            color = '#6d0c0c', #'#f44242',\n",
    "                                            fill_color = '#6d0c0c', #'#f44242',# line_color = '#f44242'\n",
    "                                          )\n",
    "                      )\n",
    "    \n",
    "    \n",
    "# test_map.save(outfile = './Folium_maps/map_predict_v0.html') ##takes forever to build... don't overwrite...\n",
    "test_map.save(outfile = './Folium_maps/test_map2.html')\n",
    "\n",
    "del test_map"
   ]
  },
  {
   "cell_type": "code",
   "execution_count": 125,
   "metadata": {},
   "outputs": [
    {
     "data": {
      "text/html": [
       "\n",
       "        <iframe\n",
       "            width=\"980\"\n",
       "            height=\"800\"\n",
       "            src=\"./Folium_maps/map_predict_v1.html\"\n",
       "            frameborder=\"0\"\n",
       "            allowfullscreen\n",
       "        ></iframe>\n",
       "        "
      ],
      "text/plain": [
       "<IPython.lib.display.IFrame at 0x11dfcc828>"
      ]
     },
     "execution_count": 125,
     "metadata": {},
     "output_type": "execute_result"
    }
   ],
   "source": [
    "from IPython.display import IFrame\n",
    "IFrame('./Folium_maps/map_predict_v1.html', width = 980, height = 800)\n",
    "# IFrame('./Folium_maps/test_map2.html', width = 980, height = 800)"
   ]
  },
  {
   "cell_type": "code",
   "execution_count": null,
   "metadata": {
    "collapsed": true
   },
   "outputs": [],
   "source": []
  },
  {
   "cell_type": "code",
   "execution_count": null,
   "metadata": {
    "collapsed": true
   },
   "outputs": [],
   "source": []
  }
 ],
 "metadata": {
  "kernelspec": {
   "display_name": "Python 3",
   "language": "python",
   "name": "python3"
  },
  "language_info": {
   "codemirror_mode": {
    "name": "ipython",
    "version": 3
   },
   "file_extension": ".py",
   "mimetype": "text/x-python",
   "name": "python",
   "nbconvert_exporter": "python",
   "pygments_lexer": "ipython3",
   "version": "3.5.3"
  }
 },
 "nbformat": 4,
 "nbformat_minor": 2
}
